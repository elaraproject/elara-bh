{
 "cells": [
  {
   "cell_type": "markdown",
   "id": "d65daabf",
   "metadata": {},
   "source": [
    "# Null geodesics"
   ]
  },
  {
   "cell_type": "markdown",
   "id": "4ecdf0df",
   "metadata": {},
   "source": [
    "The aim of this geodesic integrator is to integrate null geodesics - the geodesics of photons - in natural units where $c = G = 1$."
   ]
  },
  {
   "cell_type": "code",
   "execution_count": 1,
   "id": "848b4622",
   "metadata": {},
   "outputs": [],
   "source": [
    "import numpy as np\n",
    "import matplotlib.pyplot as plt\n",
    "import torch\n",
    "from tqdm import tqdm"
   ]
  },
  {
   "cell_type": "markdown",
   "id": "1c27c0b8",
   "metadata": {},
   "source": [
    "We will calculate Christoffel symbols by automatic differentiation of the metric tensor. To do this, we compute the Jacobian matrix of the metric tensor. Recall that the Jacobian matrix of a vector valued function, in tensor index notation, is given by:"
   ]
  },
  {
   "cell_type": "markdown",
   "id": "abfb1b7b",
   "metadata": {},
   "source": [
    "$$\n",
    "J_{mn} = \\frac{\\partial F_m}{\\partial x^n}\n",
    "$$"
   ]
  },
  {
   "cell_type": "markdown",
   "id": "326f1898",
   "metadata": {},
   "source": [
    "The metric tensor, however, is a matrix-valued function, so we need to add an additional index to the Jacobian, giving:"
   ]
  },
  {
   "cell_type": "markdown",
   "id": "06ea6d1f",
   "metadata": {},
   "source": [
    "$$\n",
    "J_{\\mu \\nu \\alpha} = \\frac{\\partial g_{\\mu \\nu}}{\\partial x^\\alpha}\n",
    "$$"
   ]
  },
  {
   "cell_type": "markdown",
   "id": "31e7f8c0",
   "metadata": {},
   "source": [
    "We can then write the Christoffel symbols in terms of the Jacobian:"
   ]
  },
  {
   "cell_type": "markdown",
   "id": "eb6ec133",
   "metadata": {},
   "source": [
    "$$\n",
    "\\Gamma^\\beta_{\\mu \\nu} = \\frac{1}{2} g^{\\beta \\alpha} \n",
    "\\left(\\frac{\\partial g_{\\mu \\alpha}}{\\partial x^\\nu} +\n",
    "\\frac{\\partial g_{\\alpha \\nu}}{\\partial x^\\mu} -\n",
    "\\frac{\\partial g_{\\mu \\nu}}{\\partial x^\\alpha}\\right) = \\frac{1}{2} g^{\\beta \\alpha} (J_{\\mu \\alpha \\nu} + J_{\\alpha \\nu \\mu} - J_{\\mu \\nu \\alpha})\n",
    "$$"
   ]
  },
  {
   "cell_type": "markdown",
   "id": "1051238a",
   "metadata": {},
   "source": [
    "We will debug by finding the Jacobian of a more simple matrix:"
   ]
  },
  {
   "cell_type": "code",
   "execution_count": 9,
   "id": "b3b6a76b",
   "metadata": {},
   "outputs": [],
   "source": [
    "def matrix_f(coords):\n",
    "    x = coords[0]\n",
    "    y = coords[1]\n",
    "    g = torch.zeros(2, 2)\n",
    "    g[0][0] = x\n",
    "    g[1][1] = y\n",
    "    return g"
   ]
  },
  {
   "cell_type": "code",
   "execution_count": 10,
   "id": "8359b263",
   "metadata": {},
   "outputs": [],
   "source": [
    "def calculate_jacob(matrix, x, y):\n",
    "    coord = torch.tensor([x, y], requires_grad=True)\n",
    "    jacobian = torch.autograd.functional.jacobian(matrix, coord)\n",
    "    return jacobian"
   ]
  },
  {
   "cell_type": "markdown",
   "id": "23f9ff04",
   "metadata": {},
   "source": [
    "$$\n",
    "f_{\\mu \\nu} =\n",
    "\\begin{pmatrix}\n",
    "x & 0 \\\\\n",
    "0 & y \n",
    "\\end{pmatrix}\n",
    "$$"
   ]
  },
  {
   "cell_type": "markdown",
   "id": "1f68090a",
   "metadata": {},
   "source": [
    "$$\n",
    "\\frac{\\partial f_{\\mu \\nu}}{\\partial x} = \n",
    "\\begin{pmatrix}\n",
    "1 & 0 \\\\\n",
    "0 & 0\n",
    "\\end{pmatrix}\n",
    "$$\n",
    "\n",
    "$$\n",
    "\\frac{\\partial f_{\\mu \\nu}}{\\partial y} = \n",
    "\\begin{pmatrix}\n",
    "0 & 0 \\\\\n",
    "0 & 1\n",
    "\\end{pmatrix}\n",
    "$$"
   ]
  },
  {
   "cell_type": "markdown",
   "id": "34902559",
   "metadata": {},
   "source": [
    "$$\n",
    "J = \n",
    "\\begin{bmatrix}\n",
    "\\frac{\\partial f_{\\mu \\nu}}{\\partial x} &\n",
    "\\frac{\\partial f_{\\mu \\nu}}{\\partial y}\n",
    "\\end{bmatrix} =\n",
    "\\begin{bmatrix}\n",
    "\\begin{bmatrix}\n",
    "1 & 0 \\\\\n",
    "0 & 0\n",
    "\\end{bmatrix} &\n",
    "\\begin{bmatrix}\n",
    "0 & 0 \\\\\n",
    "0 & 1\n",
    "\\end{bmatrix}\n",
    "\\end{bmatrix}\n",
    "$$"
   ]
  },
  {
   "cell_type": "code",
   "execution_count": 21,
   "id": "c39d8243",
   "metadata": {},
   "outputs": [
    {
     "data": {
      "text/plain": [
       "tensor([[[1., 0.],\n",
       "         [0., 0.]],\n",
       "\n",
       "        [[0., 0.],\n",
       "         [0., 1.]]])"
      ]
     },
     "execution_count": 21,
     "metadata": {},
     "output_type": "execute_result"
    }
   ],
   "source": [
    "calculate_jacob(matrix_f, 2.0, 2.0)"
   ]
  },
  {
   "cell_type": "markdown",
   "id": "824f331d",
   "metadata": {},
   "source": [
    "The Jacobian is correct. Now, we will check the Jacobian of the spherical Minkowski metric:"
   ]
  },
  {
   "cell_type": "code",
   "execution_count": 3,
   "id": "1813287b",
   "metadata": {},
   "outputs": [],
   "source": [
    "def minkowski_metric_spherical(coords):\n",
    "    t = coords[0]\n",
    "    r = coords[1]\n",
    "    theta = coords[2]\n",
    "    phi = coords[3]\n",
    "    g = torch.zeros(4, 4)\n",
    "    g[0][0] = -1\n",
    "    g[1][1] = 1\n",
    "    g[2][2] = r ** 2\n",
    "    g[3][3] = r ** 2 * torch.sin(theta) ** 2\n",
    "    return g"
   ]
  },
  {
   "cell_type": "code",
   "execution_count": 4,
   "id": "bdd51afe",
   "metadata": {},
   "outputs": [],
   "source": [
    "def minkowski_metric_spherical_inverse(coords):\n",
    "    t = coords[0]\n",
    "    r = coords[1]\n",
    "    theta = coords[2]\n",
    "    phi = coords[3]\n",
    "    g_inv = torch.zeros(4, 4)\n",
    "    g_inv[0][0] = -1\n",
    "    g_inv[1][1] = 1\n",
    "    g_inv[2][2] = 1 / (r ** 2)\n",
    "    g_inv[3][3] = 1 / (r ** 2 * torch.sin(theta) ** 2)\n",
    "    return g_inv"
   ]
  },
  {
   "cell_type": "markdown",
   "id": "c77f2b22",
   "metadata": {},
   "source": [
    "Given the metric:"
   ]
  },
  {
   "cell_type": "markdown",
   "id": "def99b99",
   "metadata": {},
   "source": [
    "$$\n",
    "\\eta_{\\mu \\nu} = \n",
    "\\begin{pmatrix}\n",
    "-1 & 0 & 0 & 0 \\\\\n",
    "0 & 1 & 0 & 0 \\\\\n",
    "0 & 0 & r^2 & 0 \\\\\n",
    "0 & 0 & 0 & r^2 \\sin^2 \\theta\n",
    "\\end{pmatrix}\n",
    "$$"
   ]
  },
  {
   "cell_type": "markdown",
   "id": "ec15bb9e",
   "metadata": {},
   "source": [
    "The Jacobian would be:"
   ]
  },
  {
   "cell_type": "markdown",
   "id": "ef1d3787",
   "metadata": {},
   "source": [
    "$$\n",
    "\\frac{\\partial \\eta_{\\mu \\nu}}{\\partial t} =\n",
    "\\begin{pmatrix}\n",
    "0 & 0 & 0 & 0 \\\\\n",
    "0 & 0 & 0 & 0 \\\\\n",
    "0 & 0 & 0 & 0 \\\\\n",
    "0 & 0 & 0 & 0\n",
    "\\end{pmatrix}\n",
    "$$"
   ]
  },
  {
   "cell_type": "markdown",
   "id": "362ca65e",
   "metadata": {},
   "source": [
    "$$\n",
    "\\frac{\\partial \\eta_{\\mu \\nu}}{\\partial r} = \n",
    "\\begin{pmatrix}\n",
    "0 & 0 & 0 & 0 \\\\\n",
    "0 & 0 & 0 & 0 \\\\\n",
    "0 & 0 & 2r & 0 \\\\\n",
    "0 & 0 & 0 & 2r \\sin^2 \\theta\n",
    "\\end{pmatrix}\n",
    "$$"
   ]
  },
  {
   "cell_type": "markdown",
   "id": "0d36ea7a",
   "metadata": {},
   "source": [
    "$$\n",
    "\\frac{\\partial \\eta_{\\mu \\nu}}{\\partial \\theta} = \n",
    "\\begin{pmatrix}\n",
    "0 & 0 & 0 & 0 \\\\\n",
    "0 & 0 & 0 & 0 \\\\\n",
    "0 & 0 & 0 & 0 \\\\\n",
    "0 & 0 & 0 & r^2 \\sin(2\\theta)\n",
    "\\end{pmatrix}\n",
    "$$"
   ]
  },
  {
   "cell_type": "markdown",
   "id": "6b702cb2",
   "metadata": {},
   "source": [
    "$$\n",
    "\\frac{\\partial \\eta_{\\mu \\nu}}{\\partial \\phi} =\n",
    "\\begin{pmatrix}\n",
    "0 & 0 & 0 & 0 \\\\\n",
    "0 & 0 & 0 & 0 \\\\\n",
    "0 & 0 & 0 & 0 \\\\\n",
    "0 & 0 & 0 & 0\n",
    "\\end{pmatrix}\n",
    "$$"
   ]
  },
  {
   "cell_type": "markdown",
   "id": "28d7bc02",
   "metadata": {},
   "source": [
    "$$\n",
    "J =\n",
    "\\begin{bmatrix}\n",
    "\\begin{bmatrix}\n",
    "0 & 0 & 0 & 0 \\\\\n",
    "0 & 0 & 0 & 0 \\\\\n",
    "0 & 0 & 0 & 0 \\\\\n",
    "0 & 0 & 0 & 0\n",
    "\\end{bmatrix} &\n",
    "\\begin{bmatrix}\n",
    "0 & 0 & 0 & 0 \\\\\n",
    "0 & 0 & 0 & 0 \\\\\n",
    "0 & 0 & 2r & 0 \\\\\n",
    "0 & 0 & 0 & 2r \\sin^2 \\theta\n",
    "\\end{bmatrix} &\n",
    "\\begin{bmatrix}\n",
    "0 & 0 & 0 & 0 \\\\\n",
    "0 & 0 & 0 & 0 \\\\\n",
    "0 & 0 & 0 & 0 \\\\\n",
    "0 & 0 & 0 & r^2 \\sin(2\\theta)\n",
    "\\end{bmatrix} &\n",
    "\\begin{bmatrix}\n",
    "0 & 0 & 0 & 0 \\\\\n",
    "0 & 0 & 0 & 0 \\\\\n",
    "0 & 0 & 0 & 0 \\\\\n",
    "0 & 0 & 0 & 0\n",
    "\\end{bmatrix}\n",
    "\\end{bmatrix} \n",
    "$$"
   ]
  },
  {
   "cell_type": "code",
   "execution_count": 18,
   "id": "911704e1",
   "metadata": {},
   "outputs": [],
   "source": [
    "def test_minkowski_jacob(metric, t, r, theta, phi):\n",
    "    coord = torch.tensor([t, r, theta, phi], requires_grad=True)\n",
    "    jacobian = torch.autograd.functional.jacobian(metric, coord)\n",
    "    return jacobian"
   ]
  },
  {
   "cell_type": "code",
   "execution_count": 24,
   "id": "41692130",
   "metadata": {},
   "outputs": [],
   "source": [
    "m_jacob = test_minkowski_jacob(minkowski_metric_spherical, 0.0, 1.0, np.pi / 4, 0.0)"
   ]
  },
  {
   "cell_type": "code",
   "execution_count": 28,
   "id": "02d2768b",
   "metadata": {},
   "outputs": [
    {
     "data": {
      "text/plain": [
       "tensor([[0., 0., 0., 0.],\n",
       "        [0., 0., 0., 0.],\n",
       "        [0., 0., 0., 0.],\n",
       "        [0., 0., 0., 0.]])"
      ]
     },
     "execution_count": 28,
     "metadata": {},
     "output_type": "execute_result"
    }
   ],
   "source": [
    "m_jacob[:, :, 0]"
   ]
  },
  {
   "cell_type": "code",
   "execution_count": 27,
   "id": "c6ca7d64",
   "metadata": {},
   "outputs": [
    {
     "data": {
      "text/plain": [
       "tensor([[0.0000, 0.0000, 0.0000, 0.0000],\n",
       "        [0.0000, 0.0000, 0.0000, 0.0000],\n",
       "        [0.0000, 0.0000, 2.0000, 0.0000],\n",
       "        [0.0000, 0.0000, 0.0000, 1.0000]])"
      ]
     },
     "execution_count": 27,
     "metadata": {},
     "output_type": "execute_result"
    }
   ],
   "source": [
    "m_jacob[:, :, 1]"
   ]
  },
  {
   "cell_type": "code",
   "execution_count": 29,
   "id": "02609fb3",
   "metadata": {},
   "outputs": [
    {
     "data": {
      "text/plain": [
       "tensor([[0., 0., 0., 0.],\n",
       "        [0., 0., 0., 0.],\n",
       "        [0., 0., 0., 0.],\n",
       "        [0., 0., 0., 1.]])"
      ]
     },
     "execution_count": 29,
     "metadata": {},
     "output_type": "execute_result"
    }
   ],
   "source": [
    "m_jacob[:, :, 2]"
   ]
  },
  {
   "cell_type": "code",
   "execution_count": 30,
   "id": "636de833",
   "metadata": {},
   "outputs": [
    {
     "data": {
      "text/plain": [
       "tensor([[0., 0., 0., 0.],\n",
       "        [0., 0., 0., 0.],\n",
       "        [0., 0., 0., 0.],\n",
       "        [0., 0., 0., 0.]])"
      ]
     },
     "execution_count": 30,
     "metadata": {},
     "output_type": "execute_result"
    }
   ],
   "source": [
    "m_jacob[:, :, 3]"
   ]
  },
  {
   "cell_type": "markdown",
   "id": "a2c0e155",
   "metadata": {},
   "source": [
    "We will now test the correct Christoffel symbols from the Jacobian, and compare to the analytically-derived solutions from the [Catalogue of Spacetimes](https://arxiv.org/pdf/0904.4184.pdf):"
   ]
  },
  {
   "cell_type": "code",
   "execution_count": 114,
   "id": "981af334",
   "metadata": {},
   "outputs": [],
   "source": [
    "def correct_christoffels(t, r, theta, phi):\n",
    "    # Don't forget that the Christoffel symbols\n",
    "    # are symmetric on their lower indices!\n",
    "    gamma = np.zeros((4, 4, 4))\n",
    "    gamma[1, 2, 2] = -r\n",
    "    gamma[1, 3, 3] = -r * (np.sin(theta) ** 2)\n",
    "    gamma[2, 1, 2] = 1 / r\n",
    "    gamma[2, 2, 1] = 1 / r\n",
    "    gamma[2, 3, 3] = -np.sin(theta) * np.cos(theta)\n",
    "    gamma[3, 1, 3] = 1 / r\n",
    "    gamma[3, 3, 1] = 1 / r\n",
    "    gamma[3, 2, 3] = 1 / np.tan(theta)\n",
    "    gamma[3, 3, 2] = 1 / np.tan(theta)\n",
    "    return gamma"
   ]
  },
  {
   "cell_type": "code",
   "execution_count": 125,
   "id": "bb1ff44c",
   "metadata": {},
   "outputs": [],
   "source": [
    "def create_inverse_metric(inverse_metric, x0, x1, x2, x3):\n",
    "    coords = torch.tensor([x0, x1, x2, x3])\n",
    "    return inverse_metric(coords) # we don't need it to be differentiable"
   ]
  },
  {
   "cell_type": "code",
   "execution_count": 37,
   "id": "1816b306",
   "metadata": {},
   "outputs": [],
   "source": [
    "mink_inv = create_inverse_metric(minkowski_metric_spherical_inverse, 0.0, 1.0, np.pi / 4, 0.0)"
   ]
  },
  {
   "cell_type": "code",
   "execution_count": 1003,
   "id": "d31cbf8e",
   "metadata": {},
   "outputs": [],
   "source": [
    "def christoffel_4d_from_jacob(jacob, inverse_metric):\n",
    "    Gamma = np.zeros((4, 4, 4))\n",
    "    for beta in range(4):\n",
    "        for mu in range(4):\n",
    "            for nu in range(4):\n",
    "                for alpha in range(4):\n",
    "                    # Note here: the first 2 indices of the Jacobian\n",
    "                    # are interchangeable, we only need worry\n",
    "                    # about the 3rd index, which is what coordinate\n",
    "                    # the derivative is taken with respect to\n",
    "                    Gamma[beta, mu, nu] += 0.5 * inverse_metric[beta, alpha] * (jacob[mu, alpha, nu] \\\n",
    "                                        + jacob[alpha, nu, mu] \\\n",
    "                                        - jacob[mu, nu, alpha])\n",
    "    return Gamma"
   ]
  },
  {
   "cell_type": "code",
   "execution_count": 104,
   "id": "e4465ef7",
   "metadata": {},
   "outputs": [],
   "source": [
    "autodiff_ch = christoffel_4d_from_jacob(m_jacob, mink_inv)"
   ]
  },
  {
   "cell_type": "code",
   "execution_count": 115,
   "id": "62e5444c",
   "metadata": {},
   "outputs": [],
   "source": [
    "correct_ch = correct_christoffels(0.0, 1.0, np.pi / 4, 0.0)"
   ]
  },
  {
   "cell_type": "code",
   "execution_count": 116,
   "id": "c6c2f248",
   "metadata": {},
   "outputs": [
    {
     "data": {
      "text/plain": [
       "array([[0., 0., 0., 0.],\n",
       "       [0., 0., 0., 0.],\n",
       "       [0., 0., 0., 0.],\n",
       "       [0., 0., 0., 0.]])"
      ]
     },
     "execution_count": 116,
     "metadata": {},
     "output_type": "execute_result"
    }
   ],
   "source": [
    "autodiff_ch[0]"
   ]
  },
  {
   "cell_type": "code",
   "execution_count": 117,
   "id": "9939aeef",
   "metadata": {},
   "outputs": [
    {
     "data": {
      "text/plain": [
       "array([[0., 0., 0., 0.],\n",
       "       [0., 0., 0., 0.],\n",
       "       [0., 0., 0., 0.],\n",
       "       [0., 0., 0., 0.]])"
      ]
     },
     "execution_count": 117,
     "metadata": {},
     "output_type": "execute_result"
    }
   ],
   "source": [
    "correct_ch[0]"
   ]
  },
  {
   "cell_type": "code",
   "execution_count": 118,
   "id": "549112a4",
   "metadata": {},
   "outputs": [
    {
     "data": {
      "text/plain": [
       "array([[ 0.        ,  0.        ,  0.        ,  0.        ],\n",
       "       [ 0.        ,  0.        ,  0.        ,  0.        ],\n",
       "       [ 0.        ,  0.        , -1.        ,  0.        ],\n",
       "       [ 0.        ,  0.        ,  0.        , -0.50000006]])"
      ]
     },
     "execution_count": 118,
     "metadata": {},
     "output_type": "execute_result"
    }
   ],
   "source": [
    "autodiff_ch[1]"
   ]
  },
  {
   "cell_type": "code",
   "execution_count": 119,
   "id": "9b1299f1",
   "metadata": {},
   "outputs": [
    {
     "data": {
      "text/plain": [
       "array([[ 0. ,  0. ,  0. ,  0. ],\n",
       "       [ 0. ,  0. ,  0. ,  0. ],\n",
       "       [ 0. ,  0. , -1. ,  0. ],\n",
       "       [ 0. ,  0. ,  0. , -0.5]])"
      ]
     },
     "execution_count": 119,
     "metadata": {},
     "output_type": "execute_result"
    }
   ],
   "source": [
    "correct_ch[1]"
   ]
  },
  {
   "cell_type": "code",
   "execution_count": 120,
   "id": "f6340fa2",
   "metadata": {},
   "outputs": [
    {
     "data": {
      "text/plain": [
       "array([[ 0. ,  0. ,  0. ,  0. ],\n",
       "       [ 0. ,  0. ,  1. ,  0. ],\n",
       "       [ 0. ,  1. ,  0. ,  0. ],\n",
       "       [ 0. ,  0. ,  0. , -0.5]])"
      ]
     },
     "execution_count": 120,
     "metadata": {},
     "output_type": "execute_result"
    }
   ],
   "source": [
    "autodiff_ch[2]"
   ]
  },
  {
   "cell_type": "code",
   "execution_count": 121,
   "id": "b43671cc",
   "metadata": {},
   "outputs": [
    {
     "data": {
      "text/plain": [
       "array([[ 0. ,  0. ,  0. ,  0. ],\n",
       "       [ 0. ,  0. ,  1. ,  0. ],\n",
       "       [ 0. ,  1. ,  0. ,  0. ],\n",
       "       [ 0. ,  0. ,  0. , -0.5]])"
      ]
     },
     "execution_count": 121,
     "metadata": {},
     "output_type": "execute_result"
    }
   ],
   "source": [
    "correct_ch[2]"
   ]
  },
  {
   "cell_type": "code",
   "execution_count": 122,
   "id": "9f2884ea",
   "metadata": {},
   "outputs": [
    {
     "data": {
      "text/plain": [
       "array([[0.        , 0.        , 0.        , 0.        ],\n",
       "       [0.        , 0.        , 0.        , 1.        ],\n",
       "       [0.        , 0.        , 0.        , 0.99999988],\n",
       "       [0.        , 1.        , 0.99999988, 0.        ]])"
      ]
     },
     "execution_count": 122,
     "metadata": {},
     "output_type": "execute_result"
    }
   ],
   "source": [
    "autodiff_ch[3]"
   ]
  },
  {
   "cell_type": "code",
   "execution_count": 123,
   "id": "733432dd",
   "metadata": {},
   "outputs": [
    {
     "data": {
      "text/plain": [
       "array([[0., 0., 0., 0.],\n",
       "       [0., 0., 0., 1.],\n",
       "       [0., 0., 0., 1.],\n",
       "       [0., 1., 1., 0.]])"
      ]
     },
     "execution_count": 123,
     "metadata": {},
     "output_type": "execute_result"
    }
   ],
   "source": [
    "correct_ch[3]"
   ]
  },
  {
   "cell_type": "markdown",
   "id": "0d972d8e",
   "metadata": {},
   "source": [
    "As it can be seen, all of them are correct. However, we will first write a geodesic integrator that doesn't use automatic differentiation."
   ]
  },
  {
   "cell_type": "markdown",
   "id": "cc532797",
   "metadata": {},
   "source": [
    "First, we create a Runge-Kutta 4th order solver:"
   ]
  },
  {
   "cell_type": "code",
   "execution_count": 704,
   "id": "1fa92582",
   "metadata": {},
   "outputs": [],
   "source": [
    "def rk4(f, u0, t0, tf, n, debug=False):\n",
    "    \"\"\"\n",
    "    Expects a function in the form y' = f(y, t) to solve\n",
    "    f - function, MUST return numpy array of derivatives\n",
    "    u0 - initial values\n",
    "    t0 - initial time\n",
    "    tf - final time\n",
    "    n - number of samples\n",
    "    \"\"\"\n",
    "    t = np.linspace(t0, tf, n+1)\n",
    "    u = np.zeros((n+1, len(u0)))\n",
    "    u[0] = u0\n",
    "    h = (tf - t0) / n\n",
    "    for i in tqdm(range(n)):\n",
    "        if debug:\n",
    "            print(\"Value of derivative:\", f(u[i], t[i]))\n",
    "        k1 = h * f(u[i], t[i])    \n",
    "        k2 = h * f(u[i] + 0.5 * k1, t[i] + 0.5*h)\n",
    "        k3 = h * f(u[i] + 0.5 * k2, t[i] + 0.5*h)\n",
    "        k4 = h * f(u[i] + k3, t[i] + h)\n",
    "        u[i+1] = u[i] + (k1 + 2*(k2 + k3 ) + k4) / 6\n",
    "    return u, t"
   ]
  },
  {
   "cell_type": "markdown",
   "id": "cf20f897",
   "metadata": {},
   "source": [
    "To test the differential equation solver, we solve the simple differential equation $\\frac{d^2 x}{dt^2} = -\\omega^2 t$, with initial conditions $x(0) = 1$ and $v(0) = 0$. To do so, we set $\\frac{dx}{dt} = v$, and we can then write the second-order ODE as a set of 2 1st-order ODEs:"
   ]
  },
  {
   "cell_type": "markdown",
   "id": "99071482",
   "metadata": {},
   "source": [
    "$$\n",
    "\\frac{dx}{dt} = v\n",
    "$$\n",
    "\n",
    "$$\n",
    "\\frac{dv}{dt} = -\\omega^2 t\n",
    "$$"
   ]
  },
  {
   "cell_type": "markdown",
   "id": "242ecdf1",
   "metadata": {},
   "source": [
    "The analytical solution is given by:"
   ]
  },
  {
   "cell_type": "code",
   "execution_count": 325,
   "id": "0df12df0",
   "metadata": {},
   "outputs": [],
   "source": [
    "u0_test = np.array([1, 0])"
   ]
  },
  {
   "cell_type": "code",
   "execution_count": 326,
   "id": "79720406",
   "metadata": {},
   "outputs": [],
   "source": [
    "def test_d_dt(X, t, omega=1):\n",
    "    x = X[0]\n",
    "    v = X[1]\n",
    "    dx_dt = v\n",
    "    dv_dt = -(omega ** 2) * x\n",
    "    return np.array([dx_dt, dv_dt])"
   ]
  },
  {
   "cell_type": "code",
   "execution_count": 327,
   "id": "16698f68",
   "metadata": {
    "scrolled": false
   },
   "outputs": [
    {
     "name": "stderr",
     "output_type": "stream",
     "text": [
      "100%|████████████████████████████████████████████████████████████| 600/600 [00:00<00:00, 13857.07it/s]\n"
     ]
    }
   ],
   "source": [
    "x_sol_test, t_sol_test = rk4(test_d_dt, u0_test, 0, 2 * np.pi, 600)"
   ]
  },
  {
   "cell_type": "code",
   "execution_count": 406,
   "id": "43c1fcd7",
   "metadata": {},
   "outputs": [
    {
     "data": {
      "image/png": "[encoded data removed]",
      "text/plain": [
       "<Figure size 640x480 with 1 Axes>"
      ]
     },
     "metadata": {},
     "output_type": "display_data"
    }
   ],
   "source": [
    "plt.plot(t_sol_test, x_sol_test[:, 0], label=\"numerical\")\n",
    "plt.plot(t_sol_test, np.cos(t_sol_test), label=\"analytical\", linestyle=\"dashed\")\n",
    "plt.legend()\n",
    "plt.show()"
   ]
  },
  {
   "cell_type": "markdown",
   "id": "e960963c",
   "metadata": {},
   "source": [
    "$$\n",
    "\\frac{d^2 t}{ds^2} = -\\frac{2M}{r^2 \\sigma} \\frac{dt}{ds} \\frac{dr}{ds}\n",
    "$$"
   ]
  },
  {
   "cell_type": "markdown",
   "id": "4b77f44a",
   "metadata": {},
   "source": [
    "$$\n",
    "\\frac{d^2 r}{ds^2} = -\\frac{M\\sigma}{r^2} \\left(\\frac{dt}{ds}\\right)^2 + \\frac{M}{r^2 \\sigma} \\left(\\frac{dr}{ds}\\right)^2 + r\\sigma \\left(\\left(\\frac{d\\theta}{ds}\\right)^2 + \\sin^2\\theta \\left(\\frac{d\\phi}{ds}\\right)^2\\right)\n",
    "$$"
   ]
  },
  {
   "cell_type": "markdown",
   "id": "8dd93eba",
   "metadata": {},
   "source": [
    "$$\n",
    "\\frac{d^2 \\theta}{ds^2} = -\\frac{2}{r} \\frac{dr}{ds} \\frac{d\\theta}{ds} + \\sin \\theta \\cos \\theta \\left(\\frac{d\\phi}{ds}\\right)^2\n",
    "$$"
   ]
  },
  {
   "cell_type": "markdown",
   "id": "31c00300",
   "metadata": {},
   "source": [
    "$$\n",
    "\\frac{d^2 \\phi}{ds^2} = -\\frac{2}{r} \\frac{dr}{ds} \\frac{d\\phi}{ds} - 2\\frac{\\cos \\theta}{\\sin \\theta} \\frac{d\\theta}{ds}\\frac{d\\phi}{ds}\n",
    "$$"
   ]
  },
  {
   "cell_type": "markdown",
   "id": "d4ac6b7d",
   "metadata": {},
   "source": [
    "We can now numerically integrate for a Schwarzschild orbit using the typical system of equations for Schwarzschild spacetime (source: https://arxiv.org/pdf/2304.12823.pdf)"
   ]
  },
  {
   "cell_type": "markdown",
   "id": "a99cfc78",
   "metadata": {},
   "source": [
    "$$\n",
    "\\frac{dt}{ds} = \\frac{e}{\\sigma}\n",
    "$$"
   ]
  },
  {
   "cell_type": "markdown",
   "id": "df6703f1",
   "metadata": {},
   "source": [
    "$$\n",
    "\\frac{dr}{ds} = \\left[e^2 - \\frac{\\sigma l^2}{r^2} \\right]^{1/2}\n",
    "$$"
   ]
  },
  {
   "cell_type": "markdown",
   "id": "3fdf408b",
   "metadata": {},
   "source": [
    "$$\n",
    "\\frac{d\\theta}{ds} = 0\n",
    "$$"
   ]
  },
  {
   "cell_type": "markdown",
   "id": "bb15311b",
   "metadata": {},
   "source": [
    "$$\n",
    "\\frac{d\\phi}{ds} = \\frac{l}{r^2}\n",
    "$$"
   ]
  },
  {
   "cell_type": "markdown",
   "id": "5891ce9a",
   "metadata": {},
   "source": [
    "where $\\sigma = 1 - \\frac{2M}{r}$."
   ]
  },
  {
   "cell_type": "markdown",
   "id": "949cf0a8",
   "metadata": {},
   "source": [
    "Where $l = \\frac{L}{m}$ (that is, angular momentum per unit mass), and where the initial velocity is given by:"
   ]
  },
  {
   "cell_type": "markdown",
   "id": "a1da26ea",
   "metadata": {},
   "source": [
    "$$\n",
    "U^\\mu = \\left(\\frac{1}{1 - \\frac{2M}{r}}, \\pm 1, 0, 0\\right)\n",
    "$$"
   ]
  },
  {
   "cell_type": "markdown",
   "id": "6dc3e4b4",
   "metadata": {},
   "source": [
    "Note that for our example, using mass-energy equivalence for photons, $l = \\frac{L}{pc^2}$ or simply $L / p$ in geometrized units."
   ]
  },
  {
   "cell_type": "code",
   "execution_count": 281,
   "id": "9ab3401a",
   "metadata": {},
   "outputs": [],
   "source": [
    "M = 1"
   ]
  },
  {
   "cell_type": "code",
   "execution_count": 282,
   "id": "c4a4ad8b",
   "metadata": {},
   "outputs": [],
   "source": [
    "def d_dt_schwarzschild(X, s, M=M, l=5, e=1):\n",
    "    r, phi = X\n",
    "    sigma = 1 - (2 * M) / r\n",
    "    dr_ds = (e ** 2 - (l ** 2 * sigma) / (r ** 2)) ** (1/2)\n",
    "    dphi_ds = l / (r ** 2)\n",
    "    return np.array([dr_ds, dphi_ds])"
   ]
  },
  {
   "cell_type": "code",
   "execution_count": 283,
   "id": "a60e8d5f",
   "metadata": {},
   "outputs": [],
   "source": [
    "sch_u0 = np.array([2 * M, 0])"
   ]
  },
  {
   "cell_type": "code",
   "execution_count": 267,
   "id": "d9b0bb46",
   "metadata": {},
   "outputs": [],
   "source": [
    "# sch_u0 = np.array([0, 6 * M, np.pi / 2, np.pi / 3])"
   ]
  },
  {
   "cell_type": "code",
   "execution_count": 284,
   "id": "96a2c14c",
   "metadata": {
    "scrolled": true
   },
   "outputs": [
    {
     "name": "stderr",
     "output_type": "stream",
     "text": [
      "100%|████████████████████████████████████████████████████████████| 500/500 [00:00<00:00, 13284.46it/s]\n"
     ]
    }
   ],
   "source": [
    "sch_x_sol, sch_t = rk4(d_dt_schwarzschild, sch_u0, 0, 10, 500)"
   ]
  },
  {
   "cell_type": "code",
   "execution_count": 285,
   "id": "47b39c34",
   "metadata": {},
   "outputs": [],
   "source": [
    "r_sch = sch_x_sol[:, 0]\n",
    "phi_sch = sch_x_sol[:, 1]"
   ]
  },
  {
   "cell_type": "code",
   "execution_count": 286,
   "id": "538b7b1e",
   "metadata": {},
   "outputs": [
    {
     "data": {
      "image/png": "[encoded data removed]",
      "text/plain": [
       "<Figure size 640x480 with 1 Axes>"
      ]
     },
     "metadata": {},
     "output_type": "display_data"
    }
   ],
   "source": [
    "plt.plot(r_sch * np.cos(phi_sch), r_sch * np.sin(phi_sch))\n",
    "plt.scatter(r_sch[0] * np.cos(phi_sch)[0], r_sch[0] * np.sin(phi_sch)[0], color=\"green\")\n",
    "plt.scatter(0, 0, color=\"black\")\n",
    "plt.xlabel(\"x (in terms of M)\")\n",
    "plt.ylabel(\"y (in terms of M)\")\n",
    "plt.show()"
   ]
  },
  {
   "cell_type": "markdown",
   "id": "eb9ab29a",
   "metadata": {},
   "source": [
    "These equations can be put together to yield a single differential equation (see http://spiro.fisica.unipd.it/~antonell/schwarzschild/):"
   ]
  },
  {
   "cell_type": "markdown",
   "id": "9d44d640",
   "metadata": {},
   "source": [
    "$$\n",
    "\\left(\\frac{dr}{d\\phi}\\right)^2 = \\frac{r^4}{b^2} - \\left( 1 - \\frac{2M}{r} \\right) \\left( \\frac{r^4}{a^2} + r^2 \\right)\n",
    "$$"
   ]
  },
  {
   "cell_type": "markdown",
   "id": "ddf9f483",
   "metadata": {},
   "source": [
    "Here $b = l/e$ and $a = l$."
   ]
  },
  {
   "cell_type": "markdown",
   "id": "fa8751a3",
   "metadata": {},
   "source": [
    "Now, this is not a very useful solution to immediately use, given the square root. Therefore, it is useful to differentiate the above equation with respect to $\\phi$ one time, to get:"
   ]
  },
  {
   "cell_type": "markdown",
   "id": "b9b4908e",
   "metadata": {},
   "source": [
    "$$\n",
    "2 \\frac{dr}{d\\phi} \\frac{d^2 r}{d\\phi^2} = \\frac{4 r^3}{b^2} \\frac{dr}{d\\phi} - \\frac{2M}{r^2} \\left(\\frac{r^4}{a^2} + r^2\\right) \\frac{dr}{d\\phi} - \\left(2r + \\frac{4r^3}{a^4}\\right) \\frac{dr}{d\\phi}\n",
    "$$"
   ]
  },
  {
   "cell_type": "markdown",
   "id": "cdad8ee1",
   "metadata": {},
   "source": [
    "Which simplifies to:"
   ]
  },
  {
   "cell_type": "markdown",
   "id": "077849cb",
   "metadata": {},
   "source": [
    "$$\n",
    "\\frac{d^2 r}{d\\phi^2} = \\frac{2r^3}{b^2} - \\frac{M}{r^2} \\left(\\frac{r^4}{a^2} + r^2\\right) - \\left(r + \\frac{2r^3}{a^4}\\right)\n",
    "$$"
   ]
  },
  {
   "cell_type": "markdown",
   "id": "f0251a2c",
   "metadata": {},
   "source": [
    "This equation is much easier to numerically integrate, and will be the equation of choice to integrate."
   ]
  },
  {
   "cell_type": "markdown",
   "id": "c55ffb75",
   "metadata": {},
   "source": [
    "Lastly, there is one final set of possible differential equations to use. If we take the original $r$ and $\\phi$ equations, and take their second derivatives, we get:"
   ]
  },
  {
   "cell_type": "markdown",
   "id": "55ed3c4c",
   "metadata": {},
   "source": [
    "$$\n",
    "\\frac{d^2 r}{ds^2} = -\\frac{M}{r^2} + \\frac{l^2}{r^3} - \\frac{3Ml^2}{r^4}\n",
    "$$"
   ]
  },
  {
   "cell_type": "markdown",
   "id": "63985a0d",
   "metadata": {},
   "source": [
    "$$\n",
    "\\frac{d^2 \\phi}{ds^2} = -\\frac{2l}{r^3} \\frac{dr}{ds}\n",
    "$$"
   ]
  },
  {
   "cell_type": "code",
   "execution_count": 1106,
   "id": "2aeea464",
   "metadata": {},
   "outputs": [],
   "source": [
    "def d_ds_schwarzschild_2(X, s, M=M, l=5, e=1):\n",
    "    r, phi, v_r, v_phi = X\n",
    "    d2r_ds = -M / (r ** 2) + (l ** 2) / (r ** 3) - (3 * M * l ** 2) / (r ** 4)\n",
    "    d2phi_ds = -2 / (r ** 3) * v_r\n",
    "    return np.array([v_r, v_phi, d2r_ds, d2phi_ds])"
   ]
  },
  {
   "cell_type": "code",
   "execution_count": 1107,
   "id": "35c0c797",
   "metadata": {},
   "outputs": [],
   "source": [
    "sch_u0 = np.array([2 * M, 0, 1, 0])"
   ]
  },
  {
   "cell_type": "code",
   "execution_count": 1108,
   "id": "9eaba65a",
   "metadata": {},
   "outputs": [
    {
     "name": "stderr",
     "output_type": "stream",
     "text": [
      "100%|█████████████████████████████████████████████████████████████| 500/500 [00:00<00:00, 7953.55it/s]\n"
     ]
    }
   ],
   "source": [
    "sch_x_sol, sch_t = rk4(d_ds_schwarzschild_2, sch_u0, 0, 3.1, 500)"
   ]
  },
  {
   "cell_type": "code",
   "execution_count": 1109,
   "id": "77d57416",
   "metadata": {},
   "outputs": [],
   "source": [
    "r_sch = sch_x_sol[:, 0]\n",
    "phi_sch = sch_x_sol[:, 1]"
   ]
  },
  {
   "cell_type": "code",
   "execution_count": 506,
   "id": "c3829534",
   "metadata": {},
   "outputs": [
    {
     "data": {
      "image/png": "[encoded data removed]",
      "text/plain": [
       "<Figure size 640x480 with 1 Axes>"
      ]
     },
     "metadata": {},
     "output_type": "display_data"
    }
   ],
   "source": [
    "plt.plot(r_sch * np.cos(phi_sch), r_sch * np.sin(phi_sch))\n",
    "plt.scatter(r_sch[0] * np.cos(phi_sch)[0], r_sch[0] * np.sin(phi_sch)[0], color=\"green\")\n",
    "plt.scatter(0, 0, color=\"black\")\n",
    "plt.xlabel(\"x (in terms of M)\")\n",
    "plt.ylabel(\"y (in terms of M)\")\n",
    "plt.show()"
   ]
  },
  {
   "cell_type": "code",
   "execution_count": 467,
   "id": "e5128691",
   "metadata": {},
   "outputs": [],
   "source": [
    "sch_u0_2 = np.array([5 * M, np.pi / 3, 1, 0])"
   ]
  },
  {
   "cell_type": "code",
   "execution_count": 471,
   "id": "71b8d5f4",
   "metadata": {},
   "outputs": [
    {
     "name": "stderr",
     "output_type": "stream",
     "text": [
      "100%|████████████████████████████████████████████████████████████| 500/500 [00:00<00:00, 13826.71it/s]\n"
     ]
    }
   ],
   "source": [
    "sch_x_sol, sch_t = rk4(d_ds_schwarzschild_2, sch_u0_2, 0, 100, 500)"
   ]
  },
  {
   "cell_type": "code",
   "execution_count": 472,
   "id": "df549798",
   "metadata": {},
   "outputs": [],
   "source": [
    "r_sch = sch_x_sol[:, 0]\n",
    "phi_sch = sch_x_sol[:, 1]"
   ]
  },
  {
   "cell_type": "code",
   "execution_count": 473,
   "id": "2d12cb9e",
   "metadata": {},
   "outputs": [
    {
     "data": {
      "image/png": "[encoded data removed]",
      "text/plain": [
       "<Figure size 640x480 with 1 Axes>"
      ]
     },
     "metadata": {},
     "output_type": "display_data"
    }
   ],
   "source": [
    "plt.plot(r_sch * np.cos(phi_sch), r_sch * np.sin(phi_sch))\n",
    "plt.scatter(r_sch[0] * np.cos(phi_sch)[0], r_sch[0] * np.sin(phi_sch)[0], color=\"green\")\n",
    "plt.scatter(0, 0, color=\"black\")\n",
    "plt.xlabel(\"x (in terms of M)\")\n",
    "plt.ylabel(\"y (in terms of M)\")\n",
    "plt.show()"
   ]
  },
  {
   "cell_type": "code",
   "execution_count": 474,
   "id": "5247ddbd",
   "metadata": {},
   "outputs": [],
   "source": [
    "sch_u0_2 = np.array([7 * M, np.pi / 3, -1, 0])"
   ]
  },
  {
   "cell_type": "code",
   "execution_count": 487,
   "id": "16a1b61a",
   "metadata": {},
   "outputs": [
    {
     "name": "stderr",
     "output_type": "stream",
     "text": [
      "100%|████████████████████████████████████████████████████████████| 500/500 [00:00<00:00, 12520.68it/s]\n"
     ]
    }
   ],
   "source": [
    "sch_x_sol, sch_t = rk4(d_ds_schwarzschild_2, sch_u0_2, 0, 5.7, 500)"
   ]
  },
  {
   "cell_type": "code",
   "execution_count": 488,
   "id": "c620c165",
   "metadata": {},
   "outputs": [],
   "source": [
    "r_sch = sch_x_sol[:, 0]\n",
    "phi_sch = sch_x_sol[:, 1]"
   ]
  },
  {
   "cell_type": "code",
   "execution_count": 489,
   "id": "77fb63c4",
   "metadata": {},
   "outputs": [
    {
     "data": {
      "image/png": "[encoded data removed]",
      "text/plain": [
       "<Figure size 640x480 with 1 Axes>"
      ]
     },
     "metadata": {},
     "output_type": "display_data"
    }
   ],
   "source": [
    "plt.plot(r_sch * np.cos(phi_sch), r_sch * np.sin(phi_sch))\n",
    "plt.scatter(r_sch[0] * np.cos(phi_sch)[0], r_sch[0] * np.sin(phi_sch)[0], color=\"green\")\n",
    "plt.scatter(0, 0, color=\"black\")\n",
    "plt.xlabel(\"x (in terms of M)\")\n",
    "plt.ylabel(\"y (in terms of M)\")\n",
    "plt.show()"
   ]
  },
  {
   "cell_type": "code",
   "execution_count": 609,
   "id": "0596de8f",
   "metadata": {},
   "outputs": [],
   "source": [
    "sch_u0_3 = np.array([6 * M, 0, -1, 1])"
   ]
  },
  {
   "cell_type": "code",
   "execution_count": 610,
   "id": "70cf2197",
   "metadata": {},
   "outputs": [
    {
     "name": "stderr",
     "output_type": "stream",
     "text": [
      "100%|████████████████████████████████████████████████████████████| 500/500 [00:00<00:00, 11237.73it/s]\n"
     ]
    }
   ],
   "source": [
    "sch_x_sol, sch_t = rk4(d_ds_schwarzschild_2, sch_u0_3, 0, 4, 500)"
   ]
  },
  {
   "cell_type": "code",
   "execution_count": 242,
   "id": "08f66796",
   "metadata": {},
   "outputs": [],
   "source": [
    "# def d_dt_schwarzschild(X, s, M=M, l=500, e=1):\n",
    "#     t, r, theta, phi = X\n",
    "#     sigma = 1 - (2 * M) / r\n",
    "#     dt_ds = e / sigma\n",
    "#     dr_ds = (e ** 2 - (l ** 2 * sigma) / (r ** 2)) ** (1/2)\n",
    "#     dtheta_ds = 0\n",
    "#     dphi_ds = l / (r ** 2)\n",
    "#     return np.array([dt_ds, dr_ds, dtheta_ds, dphi_ds])"
   ]
  },
  {
   "cell_type": "code",
   "execution_count": 611,
   "id": "5648b6cc",
   "metadata": {},
   "outputs": [],
   "source": [
    "r_sch = sch_x_sol[:, 0]\n",
    "phi_sch = sch_x_sol[:, 1]"
   ]
  },
  {
   "cell_type": "code",
   "execution_count": 612,
   "id": "3fd144d6",
   "metadata": {},
   "outputs": [
    {
     "data": {
      "image/png": "[encoded data removed]",
      "text/plain": [
       "<Figure size 640x480 with 1 Axes>"
      ]
     },
     "metadata": {},
     "output_type": "display_data"
    }
   ],
   "source": [
    "plt.plot(r_sch * np.cos(phi_sch), r_sch * np.sin(phi_sch))\n",
    "plt.scatter(r_sch[0] * np.cos(phi_sch)[0], r_sch[0] * np.sin(phi_sch)[0], color=\"green\")\n",
    "plt.scatter(0, 0, color=\"black\")\n",
    "plt.xlabel(\"x (in terms of M)\")\n",
    "plt.ylabel(\"y (in terms of M)\")\n",
    "plt.show()"
   ]
  },
  {
   "cell_type": "code",
   "execution_count": 711,
   "id": "a5a96927",
   "metadata": {},
   "outputs": [],
   "source": [
    "sch_u0_4 = np.array([6 * M, 0, 0, 1])"
   ]
  },
  {
   "cell_type": "code",
   "execution_count": 721,
   "id": "85ed973d",
   "metadata": {},
   "outputs": [
    {
     "name": "stderr",
     "output_type": "stream",
     "text": [
      "100%|████████████████████████████████████████████████████████████| 500/500 [00:00<00:00, 14398.77it/s]\n"
     ]
    }
   ],
   "source": [
    "sch_x_sol, sch_t = rk4(d_ds_schwarzschild_2, sch_u0_4, 0, 5, 500)"
   ]
  },
  {
   "cell_type": "code",
   "execution_count": 722,
   "id": "25954f7b",
   "metadata": {},
   "outputs": [],
   "source": [
    "r_sch = sch_x_sol[:, 0]\n",
    "phi_sch = sch_x_sol[:, 1]"
   ]
  },
  {
   "cell_type": "code",
   "execution_count": 723,
   "id": "e4e8c4b2",
   "metadata": {},
   "outputs": [
    {
     "data": {
      "image/png": "[encoded data removed]",
      "text/plain": [
       "<Figure size 640x480 with 1 Axes>"
      ]
     },
     "metadata": {},
     "output_type": "display_data"
    }
   ],
   "source": [
    "plt.plot(r_sch * np.cos(phi_sch), r_sch * np.sin(phi_sch))\n",
    "plt.scatter(r_sch[0] * np.cos(phi_sch)[0], r_sch[0] * np.sin(phi_sch)[0], color=\"green\")\n",
    "plt.scatter(0, 0, color=\"black\")\n",
    "plt.xlabel(\"x (in terms of M)\")\n",
    "plt.ylabel(\"y (in terms of M)\")\n",
    "plt.show()"
   ]
  },
  {
   "cell_type": "markdown",
   "id": "d0568f2a",
   "metadata": {},
   "source": [
    "Finally, note that these equations require prior knowledge of $L$ and $E$, the angular momentum and energy of a photon. If we don't know the values of these constants of motion, we can use the more general geodesic equations for Schwarzschild spacetime:"
   ]
  },
  {
   "cell_type": "markdown",
   "id": "b80f37ea",
   "metadata": {},
   "source": [
    "$$\n",
    "\\frac{d^2 t}{ds^2} = -\\frac{2M}{r^2 \\sigma} \\frac{dt}{ds} \\frac{dr}{ds}\n",
    "$$"
   ]
  },
  {
   "cell_type": "markdown",
   "id": "6907b9fe",
   "metadata": {},
   "source": [
    "$$\n",
    "\\frac{d^2 r}{ds^2} = -\\frac{M\\sigma}{r^2} \\left(\\frac{dt}{ds}\\right)^2 + \\frac{M}{r^2 \\sigma} \\left(\\frac{dr}{ds}\\right)^2 + r\\sigma \\left(\\left(\\frac{d\\theta}{ds}\\right)^2 + \\sin^2\\theta \\left(\\frac{d\\phi}{ds}\\right)^2\\right)\n",
    "$$"
   ]
  },
  {
   "cell_type": "markdown",
   "id": "85eb83a5",
   "metadata": {},
   "source": [
    "$$\n",
    "\\frac{d^2 \\theta}{ds^2} = -\\frac{2}{r} \\frac{dr}{ds} \\frac{d\\theta}{ds} + \\sin \\theta \\cos \\theta \\left(\\frac{d\\phi}{ds}\\right)^2\n",
    "$$"
   ]
  },
  {
   "cell_type": "markdown",
   "id": "3cc1aa94",
   "metadata": {},
   "source": [
    "$$\n",
    "\\frac{d^2 \\phi}{ds^2} = -\\frac{2}{r} \\frac{dr}{ds} \\frac{d\\phi}{ds} - 2\\frac{\\cos \\theta}{\\sin \\theta} \\frac{d\\theta}{ds}\\frac{d\\phi}{ds}\n",
    "$$"
   ]
  },
  {
   "cell_type": "markdown",
   "id": "68bf0125",
   "metadata": {},
   "source": [
    "We know that $\\theta = \\frac{\\pi}{2}$ is a valid solution to the above system of equations, so we have:"
   ]
  },
  {
   "cell_type": "markdown",
   "id": "e9e9460e",
   "metadata": {},
   "source": [
    "$$\n",
    "\\frac{d^2 t}{ds^2} = -\\frac{2M}{r^2 \\sigma} \\frac{dt}{ds} \\frac{dr}{ds}\n",
    "$$"
   ]
  },
  {
   "cell_type": "markdown",
   "id": "dc3d7377",
   "metadata": {},
   "source": [
    "$$\n",
    "\\frac{d^2 r}{ds^2} = -\\frac{M\\sigma}{r^2} \\left(\\frac{dt}{ds}\\right)^2 + \\frac{M}{r^2 \\sigma} \\left(\\frac{dr}{ds}\\right)^2 + r\\sigma \\left(\\frac{d\\phi}{ds}\\right)^2\n",
    "$$"
   ]
  },
  {
   "cell_type": "markdown",
   "id": "e092fada",
   "metadata": {},
   "source": [
    "$$\n",
    "\\frac{d^2 \\phi}{ds^2} = -\\frac{2}{r} \\frac{dr}{ds} \\frac{d\\phi}{ds}\n",
    "$$"
   ]
  },
  {
   "cell_type": "markdown",
   "id": "225d222f",
   "metadata": {},
   "source": [
    "Now we find the null vectors corresponding to the Schwarzschild metric (derivation from _A Most Incomprehensible Thing_). Since (setting the final 2 terms of the metric to zero):"
   ]
  },
  {
   "cell_type": "markdown",
   "id": "95c4798a",
   "metadata": {},
   "source": [
    "$$\n",
    "ds^2 = \\sigma dt^2 - \\sigma^{-1} dr^2 = 0\n",
    "$$"
   ]
  },
  {
   "cell_type": "markdown",
   "id": "9e109311",
   "metadata": {},
   "source": [
    "Therefore:"
   ]
  },
  {
   "cell_type": "markdown",
   "id": "4e8d02e9",
   "metadata": {},
   "source": [
    "$$\n",
    "\\sigma^2 dt^2 = dr^2\n",
    "$$"
   ]
  },
  {
   "cell_type": "markdown",
   "id": "6ff75eae",
   "metadata": {},
   "source": [
    "And:"
   ]
  },
  {
   "cell_type": "markdown",
   "id": "d4e55363",
   "metadata": {},
   "source": [
    "$$\n",
    "\\frac{dr}{ds} = \\pm \\left(1 - \\frac{2M}{r}\\right)\n",
    "$$"
   ]
  },
  {
   "cell_type": "markdown",
   "id": "21c58704",
   "metadata": {},
   "source": [
    "Thus:"
   ]
  },
  {
   "cell_type": "markdown",
   "id": "298034c7",
   "metadata": {},
   "source": [
    "$$\n",
    "U^\\mu = \\left(1, \\pm \\left(1 - \\frac{2M}{r}\\right), 0, 0\\right)\n",
    "$$"
   ]
  },
  {
   "cell_type": "code",
   "execution_count": 904,
   "id": "16985101",
   "metadata": {},
   "outputs": [],
   "source": [
    "M = 2e30 # solar mass"
   ]
  },
  {
   "cell_type": "code",
   "execution_count": 957,
   "id": "faba35ff",
   "metadata": {},
   "outputs": [],
   "source": [
    "sch_t0 = 0\n",
    "sch_r0 = 6 * M\n",
    "sch_phi0 = 0\n",
    "\n",
    "# From a null vector\n",
    "sch_v_t0 = 1\n",
    "# can be positive or negative\n",
    "sch_v_r0 = (1 - (2 * M) / sch_r0)\n",
    "sch_v_phi0 = 0.3"
   ]
  },
  {
   "cell_type": "code",
   "execution_count": 958,
   "id": "b1469dc0",
   "metadata": {},
   "outputs": [],
   "source": [
    "def d2_dt_schwarzschild(X, s, M=M):\n",
    "    t, r, phi = X[:3]\n",
    "    v_t, v_r, v_phi = X[3:]\n",
    "    sigma = 1 - (2 * M) / r\n",
    "    \n",
    "    # compute second derivatives\n",
    "    d2t_ds = -(2 * M) / (r ** 2 * sigma) * v_t * v_r\n",
    "    d2r_ds = -(M * sigma) / (r ** 2) * (v_t ** 2) \\\n",
    "                + M / (r ** 2 * sigma) * (v_r ** 2) \\\n",
    "                + r * sigma * (v_phi ** 2)\n",
    "    d2phi_ds = -2/r * v_r * v_phi\n",
    "    \n",
    "    return np.array([v_t, v_r, v_phi, d2t_ds, d2r_ds, d2phi_ds])"
   ]
  },
  {
   "cell_type": "code",
   "execution_count": 959,
   "id": "812d94ed",
   "metadata": {},
   "outputs": [],
   "source": [
    "sch_u0 = np.array([sch_t0, sch_r0, sch_phi0, sch_v_t0, sch_v_r0, sch_v_phi0])"
   ]
  },
  {
   "cell_type": "code",
   "execution_count": 960,
   "id": "2f9f356d",
   "metadata": {},
   "outputs": [
    {
     "name": "stderr",
     "output_type": "stream",
     "text": [
      "100%|█████████████████████████████████████████████████████████████| 100/100 [00:00<00:00, 6473.39it/s]\n"
     ]
    }
   ],
   "source": [
    "sch_x_sol, sch_t = rk4(d2_dt_schwarzschild, sch_u0, 0, 15, 100)"
   ]
  },
  {
   "cell_type": "code",
   "execution_count": 961,
   "id": "81760b41",
   "metadata": {},
   "outputs": [],
   "source": [
    "r_sch = sch_x_sol[:, 1]\n",
    "phi_sch = sch_x_sol[:, 2]"
   ]
  },
  {
   "cell_type": "code",
   "execution_count": 962,
   "id": "5d971167",
   "metadata": {},
   "outputs": [
    {
     "data": {
      "image/png": "[encoded data removed]",
      "text/plain": [
       "<Figure size 640x480 with 1 Axes>"
      ]
     },
     "metadata": {},
     "output_type": "display_data"
    }
   ],
   "source": [
    "masses_ticker = lambda x, pos: f\"{x / M:.1f}\"\n",
    "\n",
    "ax = plt.figure().add_subplot()\n",
    "ax.yaxis.set_major_formatter(masses_ticker)\n",
    "ax.xaxis.set_major_formatter(masses_ticker)\n",
    "ax.plot(r_sch * np.cos(phi_sch), r_sch * np.sin(phi_sch))\n",
    "ax.scatter(r_sch[0] * np.cos(phi_sch)[0], r_sch[0] * np.sin(phi_sch)[0], color=\"green\")\n",
    "ax.scatter(0, 0, color=\"black\")\n",
    "ax.set_xlabel(\"x (in terms of M)\")\n",
    "ax.set_ylabel(\"y (in terms of M)\")\n",
    "plt.show()"
   ]
  },
  {
   "cell_type": "code",
   "execution_count": 963,
   "id": "b7070bcc",
   "metadata": {},
   "outputs": [],
   "source": [
    "sch_u0_2 = np.array([sch_t0, 10 * M, sch_phi0, sch_v_t0, sch_v_r0, sch_v_phi0])"
   ]
  },
  {
   "cell_type": "code",
   "execution_count": 967,
   "id": "e54f14b3",
   "metadata": {},
   "outputs": [
    {
     "name": "stderr",
     "output_type": "stream",
     "text": [
      "100%|█████████████████████████████████████████████████████████████| 100/100 [00:00<00:00, 6452.08it/s]\n"
     ]
    }
   ],
   "source": [
    "sch_x_sol, sch_t = rk4(d2_dt_schwarzschild, sch_u0_2, 0, 15, 100)"
   ]
  },
  {
   "cell_type": "code",
   "execution_count": 968,
   "id": "581f4d3f",
   "metadata": {},
   "outputs": [],
   "source": [
    "r_sch = sch_x_sol[:, 1]\n",
    "phi_sch = sch_x_sol[:, 2]"
   ]
  },
  {
   "cell_type": "code",
   "execution_count": 969,
   "id": "f65a80b9",
   "metadata": {},
   "outputs": [
    {
     "data": {
      "image/png": "[encoded data removed]",
      "text/plain": [
       "<Figure size 640x480 with 1 Axes>"
      ]
     },
     "metadata": {},
     "output_type": "display_data"
    }
   ],
   "source": [
    "masses_ticker = lambda x, pos: f\"{x / M:.1f}\"\n",
    "\n",
    "ax = plt.figure().add_subplot()\n",
    "ax.yaxis.set_major_formatter(masses_ticker)\n",
    "ax.xaxis.set_major_formatter(masses_ticker)\n",
    "ax.plot(r_sch * np.cos(phi_sch), r_sch * np.sin(phi_sch))\n",
    "ax.scatter(r_sch[0] * np.cos(phi_sch)[0], r_sch[0] * np.sin(phi_sch)[0], color=\"green\")\n",
    "ax.scatter(0, 0, color=\"black\")\n",
    "ax.set_xlabel(\"x (in terms of M)\")\n",
    "ax.set_ylabel(\"y (in terms of M)\")\n",
    "plt.show()"
   ]
  },
  {
   "cell_type": "code",
   "execution_count": 993,
   "id": "b6ebbc72",
   "metadata": {},
   "outputs": [],
   "source": [
    "sch_u0_3 = np.array([sch_t0, 3 * M, sch_phi0, sch_v_t0, sch_v_r0, 0.03])"
   ]
  },
  {
   "cell_type": "code",
   "execution_count": 994,
   "id": "2aed0071",
   "metadata": {},
   "outputs": [
    {
     "name": "stderr",
     "output_type": "stream",
     "text": [
      "100%|████████████████████████████████████████████████████████████| 100/100 [00:00<00:00, 11492.82it/s]\n"
     ]
    }
   ],
   "source": [
    "sch_x_sol, sch_t = rk4(d2_dt_schwarzschild, sch_u0_3, 0, 100, 100)"
   ]
  },
  {
   "cell_type": "code",
   "execution_count": 995,
   "id": "d0f5de8b",
   "metadata": {},
   "outputs": [],
   "source": [
    "r_sch = sch_x_sol[:, 1]\n",
    "phi_sch = sch_x_sol[:, 2]"
   ]
  },
  {
   "cell_type": "code",
   "execution_count": 997,
   "id": "1f51b5d5",
   "metadata": {},
   "outputs": [
    {
     "data": {
      "image/png": "[encoded data removed]",
      "text/plain": [
       "<Figure size 640x480 with 1 Axes>"
      ]
     },
     "metadata": {},
     "output_type": "display_data"
    }
   ],
   "source": [
    "masses_ticker = lambda x, pos: f\"{x / M:.1f}\"\n",
    "\n",
    "ax = plt.figure().add_subplot()\n",
    "ax.yaxis.set_major_formatter(masses_ticker)\n",
    "ax.xaxis.set_major_formatter(masses_ticker)\n",
    "ax.plot(r_sch * np.cos(phi_sch), r_sch * np.sin(phi_sch))\n",
    "ax.scatter(r_sch[0] * np.cos(phi_sch)[0], r_sch[0] * np.sin(phi_sch)[0], color=\"green\")\n",
    "ax.scatter(0, 0, color=\"black\")\n",
    "ax.set_xlabel(\"x (in terms of M)\")\n",
    "ax.set_ylabel(\"y (in terms of M)\")\n",
    "plt.show()"
   ]
  },
  {
   "cell_type": "markdown",
   "id": "3a79cf0f",
   "metadata": {},
   "source": [
    "Now, we can finally use automatic differentiation to plot null geodesics. We will test it on the Schwarzschild metric first.  We solve the geodesic equation as a system of 1st-order differential equations:"
   ]
  },
  {
   "cell_type": "markdown",
   "id": "b7d780cc",
   "metadata": {},
   "source": [
    "$$\n",
    "\\frac{dx^\\mu}{ds} = U^\\mu\n",
    "$$\n",
    "\n",
    "$$\n",
    "\\frac{d U^\\mu}{ds} = -\\Gamma^\\mu_{\\alpha \\beta} \\frac{dx^\\alpha}{ds} \\frac{dx^\\beta}{ds}\n",
    "$$"
   ]
  },
  {
   "cell_type": "markdown",
   "id": "06e48cdd",
   "metadata": {},
   "source": [
    "We will first test by adding the Christoffel symbols for the Schwarzschild metric manually:"
   ]
  },
  {
   "cell_type": "code",
   "execution_count": 1165,
   "id": "7e54c341",
   "metadata": {},
   "outputs": [],
   "source": [
    "M = 2e30"
   ]
  },
  {
   "cell_type": "code",
   "execution_count": 1188,
   "id": "5ecdc0a4",
   "metadata": {},
   "outputs": [],
   "source": [
    "def schwarzschild_christoffels(coords, M=M):\n",
    "    t = coords[0]\n",
    "    r = coords[1]\n",
    "    theta = coords[2]\n",
    "    phi = coords[3]\n",
    "    \n",
    "    # Symbols\n",
    "    Gamma = np.zeros((4, 4, 4))\n",
    "    rs = 2 * M\n",
    "    Gamma[1][0][0] = (rs * (r - rs)) / (2 * r ** 3)\n",
    "    Gamma[0][0][1] = rs / (2 * r * (r - rs))\n",
    "    Gamma[1][1][1] = -rs / (2 * r * (r - rs))\n",
    "    Gamma[2][1][2] = 1 / r\n",
    "    Gamma[3][1][3] = 1 / r\n",
    "    Gamma[1][2][2] = -(r - rs)\n",
    "    Gamma[3][2][3] = np.sin(theta) / np.cos(theta)\n",
    "    Gamma[1][3][3] = -(r - rs) * (np.sin(theta) ** 2)\n",
    "    Gamma[2][3][3] = -np.sin(theta) * np.cos(theta)\n",
    "    # mirror christoffels\n",
    "    Gamma[0][1][0] = rs / (2 * r * (r - rs))\n",
    "    Gamma[2][2][1] = 1 / r\n",
    "    Gamma[3][3][1] = 1 / r\n",
    "    Gamma[3][3][2] = np.sin(theta) / np.cos(theta)\n",
    "    return Gamma"
   ]
  },
  {
   "cell_type": "markdown",
   "id": "b0a34180",
   "metadata": {},
   "source": [
    "We will now use the pre-prepared christoffel symbols to find the geodesics:"
   ]
  },
  {
   "cell_type": "code",
   "execution_count": 1167,
   "id": "6c3ee6f3",
   "metadata": {},
   "outputs": [],
   "source": [
    "def sch_metric_d_ds(X, s):\n",
    "    \"\"\"\n",
    "    The value of the 4 first and 4 second\n",
    "    derivatives with respect to an affine\n",
    "    parameter s\n",
    "    \"\"\"\n",
    "    # Create a new vector to hold the new positions and velocities\n",
    "    # after each step\n",
    "    u = np.zeros(X.shape)\n",
    "    # X is a vector with 4 components of position\n",
    "    # and 4 components of velocity\n",
    "    x = X[:4]\n",
    "    velocities = X[4:]\n",
    "    # Find the first 4 derivatives (dx/ds) - these are the\n",
    "    # components of 4-velocity\n",
    "    u[:4] = velocities\n",
    "    # Find christoffel symbols\n",
    "    Gamma = schwarzschild_christoffels(x)\n",
    "    # Given the christoffel symbols, calculate the next 4\n",
    "    # derivatives (dU/ds) - these are the components of\n",
    "    # 4-acceleration\n",
    "    for mu in range(4):\n",
    "        for alpha in range(4):\n",
    "            for beta in range(4):\n",
    "                # Solve for x components\n",
    "                # we sum due to the Einstein summation convention\n",
    "                u[4 + mu] += -Gamma[mu][alpha][beta] * velocities[alpha] * velocities[beta]\n",
    "    return u"
   ]
  },
  {
   "cell_type": "code",
   "execution_count": 1168,
   "id": "ee679ca9",
   "metadata": {},
   "outputs": [],
   "source": [
    "sch_u0 = np.array([sch_t0, 6 * M, 0, sch_phi0, sch_v_t0, sch_v_r0, 0, 0.03])"
   ]
  },
  {
   "cell_type": "code",
   "execution_count": 1169,
   "id": "3dc20592",
   "metadata": {},
   "outputs": [
    {
     "name": "stderr",
     "output_type": "stream",
     "text": [
      "100%|█████████████████████████████████████████████████████████████| 200/200 [00:00<00:00, 1144.28it/s]\n"
     ]
    }
   ],
   "source": [
    "sch_x_sol, sch_t = rk4(sch_metric_d_ds, sch_u0, 0, 200, 200)"
   ]
  },
  {
   "cell_type": "code",
   "execution_count": 1170,
   "id": "a2bc3c4c",
   "metadata": {},
   "outputs": [],
   "source": [
    "r_sch = sch_x_sol[:, 1]\n",
    "phi_sch = sch_x_sol[:, 3]"
   ]
  },
  {
   "cell_type": "code",
   "execution_count": 1171,
   "id": "22ad8d3c",
   "metadata": {},
   "outputs": [
    {
     "data": {
      "image/png": "[encoded data removed]",
      "text/plain": [
       "<Figure size 640x480 with 1 Axes>"
      ]
     },
     "metadata": {},
     "output_type": "display_data"
    }
   ],
   "source": [
    "masses_ticker = lambda x, pos: f\"{x / M:.1f}\"\n",
    "\n",
    "ax = plt.figure().add_subplot()\n",
    "ax.yaxis.set_major_formatter(masses_ticker)\n",
    "ax.xaxis.set_major_formatter(masses_ticker)\n",
    "ax.plot(r_sch * np.cos(phi_sch), r_sch * np.sin(phi_sch))\n",
    "ax.scatter(r_sch[0] * np.cos(phi_sch)[0], r_sch[0] * np.sin(phi_sch)[0], color=\"green\")\n",
    "ax.scatter(0, 0, color=\"black\")\n",
    "ax.set_xlabel(\"x (in terms of M)\")\n",
    "ax.set_ylabel(\"y (in terms of M)\")\n",
    "plt.show()"
   ]
  },
  {
   "cell_type": "markdown",
   "id": "af1ead5d",
   "metadata": {},
   "source": [
    "We will now test the Schwarzschild christoffel symbols as compared to the analytical symbols:"
   ]
  },
  {
   "cell_type": "code",
   "execution_count": 1172,
   "id": "3e780da3",
   "metadata": {},
   "outputs": [],
   "source": [
    "M = 1"
   ]
  },
  {
   "cell_type": "code",
   "execution_count": 1173,
   "id": "3abf695a",
   "metadata": {},
   "outputs": [],
   "source": [
    "def sch_metric(coords, M=M):\n",
    "    t = coords[0]\n",
    "    r = coords[1]\n",
    "    theta = coords[2]\n",
    "    phi = coords[3]\n",
    "    r_s = 2 * M\n",
    "    g = torch.zeros(4, 4)\n",
    "    g[0][0] = -(1 - (r_s / r))\n",
    "    g[1][1] = 1 / (1 - (r_s / r))\n",
    "    g[2][2] = r ** 2\n",
    "    g[3][3] = r ** 2 * (torch.sin(theta) ** 2)\n",
    "    return g\n",
    "\n",
    "def inv_sch_metric(coords, M=M):\n",
    "    # Only needs to be numpy-compatible\n",
    "    # thus we don't use a torch tensor\n",
    "    t = coords[0]\n",
    "    r = coords[1]\n",
    "    theta = coords[2]\n",
    "    phi = coords[3]\n",
    "    r_s = 2 * M\n",
    "    g = np.zeros((4, 4))\n",
    "    g[0][0] = 1 / -(1 - (r_s / r))\n",
    "    g[1][1] = 1 - (r_s / r)\n",
    "    g[2][2] = 1 / (r ** 2)\n",
    "    g[3][3] = 1 / (r ** 2 * (np.sin(theta) ** 2))\n",
    "    return g"
   ]
  },
  {
   "cell_type": "code",
   "execution_count": 1174,
   "id": "28f20120",
   "metadata": {},
   "outputs": [],
   "source": [
    "def create_inverse_metric(inverse_metric, x0, x1, x2, x3):\n",
    "    # As it doesn't need to be differentiable we can simply\n",
    "    # use a numpy array\n",
    "    coords = np.array([x0, x1, x2, x3])\n",
    "    return inverse_metric(coords) # we don't need it to be differentiable"
   ]
  },
  {
   "cell_type": "code",
   "execution_count": 1175,
   "id": "ac75119c",
   "metadata": {},
   "outputs": [],
   "source": [
    "def metric_jacob(metric, x0, x1, x2, x3):\n",
    "    coord = torch.tensor([x0, x1, x2, x3], requires_grad=True)\n",
    "    jacobian = torch.autograd.functional.jacobian(metric, coord)\n",
    "    return jacobian"
   ]
  },
  {
   "cell_type": "code",
   "execution_count": 1176,
   "id": "1ebf618e",
   "metadata": {},
   "outputs": [],
   "source": [
    "def calculate_christoffels(x0, x1, x2, x3, metric=sch_metric, inverse_metric=inv_sch_metric):\n",
    "    m_jacob = metric_jacob(metric, x0, x1, x2, x3)\n",
    "    print(m_jacob)\n",
    "    inverse_m = create_inverse_metric(inverse_metric, x0, x1, x2, x3)\n",
    "    Gamma = christoffel_4d_from_jacob(m_jacob, inverse_m)\n",
    "    return Gamma"
   ]
  },
  {
   "cell_type": "code",
   "execution_count": 1184,
   "id": "9288c21d",
   "metadata": {},
   "outputs": [],
   "source": [
    "M = 1"
   ]
  },
  {
   "cell_type": "code",
   "execution_count": 1185,
   "id": "1ee76da2",
   "metadata": {},
   "outputs": [],
   "source": [
    "test_sch_vals = [1, 6 * M, np.pi / 2, 0]"
   ]
  },
  {
   "cell_type": "code",
   "execution_count": 1186,
   "id": "9bcb3a1c",
   "metadata": {},
   "outputs": [],
   "source": [
    "analytical_ch = schwarzschild_christoffels(test_sch_vals)"
   ]
  },
  {
   "cell_type": "code",
   "execution_count": 1193,
   "id": "a08e3d26",
   "metadata": {},
   "outputs": [
    {
     "name": "stdout",
     "output_type": "stream",
     "text": [
      "tensor([[[0.0000e+00, 0.0000e+00,        nan, 0.0000e+00],\n",
      "         [0.0000e+00, 0.0000e+00,        nan, 0.0000e+00],\n",
      "         [0.0000e+00, 0.0000e+00,        nan, 0.0000e+00],\n",
      "         [0.0000e+00, 0.0000e+00,        nan, 0.0000e+00]],\n",
      "\n",
      "        [[0.0000e+00, 0.0000e+00,        nan, 0.0000e+00],\n",
      "         [0.0000e+00, 0.0000e+00,        nan, 0.0000e+00],\n",
      "         [0.0000e+00, 0.0000e+00,        nan, 0.0000e+00],\n",
      "         [0.0000e+00, 0.0000e+00,        nan, 0.0000e+00]],\n",
      "\n",
      "        [[0.0000e+00, 0.0000e+00,        nan, 0.0000e+00],\n",
      "         [0.0000e+00, 0.0000e+00,        nan, 0.0000e+00],\n",
      "         [0.0000e+00, 2.4000e+31,        nan, 0.0000e+00],\n",
      "         [0.0000e+00, 0.0000e+00,        nan, 0.0000e+00]],\n",
      "\n",
      "        [[0.0000e+00, 0.0000e+00,        nan, 0.0000e+00],\n",
      "         [0.0000e+00, 0.0000e+00,        nan, 0.0000e+00],\n",
      "         [0.0000e+00, 0.0000e+00,        nan, 0.0000e+00],\n",
      "         [0.0000e+00, 2.4000e+31,       -inf, 0.0000e+00]]])\n"
     ]
    }
   ],
   "source": [
    "calculated_ch = calculate_christoffels(sch_t0, sch_r0, sch_theta0, sch_phi0)"
   ]
  },
  {
   "cell_type": "code",
   "execution_count": 1122,
   "id": "5948d96e",
   "metadata": {},
   "outputs": [
    {
     "data": {
      "text/plain": [
       "array([[0.00000000e+00, 6.94444444e-63, 0.00000000e+00, 0.00000000e+00],\n",
       "       [6.94444444e-63, 0.00000000e+00, 0.00000000e+00, 0.00000000e+00],\n",
       "       [0.00000000e+00, 0.00000000e+00, 0.00000000e+00, 0.00000000e+00],\n",
       "       [0.00000000e+00, 0.00000000e+00, 0.00000000e+00, 0.00000000e+00]])"
      ]
     },
     "execution_count": 1122,
     "metadata": {},
     "output_type": "execute_result"
    }
   ],
   "source": [
    "analytical_ch[0]"
   ]
  },
  {
   "cell_type": "code",
   "execution_count": 1123,
   "id": "7bc3ebeb",
   "metadata": {},
   "outputs": [
    {
     "data": {
      "text/plain": [
       "array([[nan, nan, nan, nan],\n",
       "       [nan, nan, nan, nan],\n",
       "       [nan, nan, nan, nan],\n",
       "       [nan, nan, nan, nan]])"
      ]
     },
     "execution_count": 1123,
     "metadata": {},
     "output_type": "execute_result"
    }
   ],
   "source": [
    "calculated_ch[0]"
   ]
  },
  {
   "cell_type": "code",
   "execution_count": 1124,
   "id": "3a8e2591",
   "metadata": {},
   "outputs": [
    {
     "data": {
      "text/plain": [
       "array([[ 6.94444444e-63,  0.00000000e+00,  0.00000000e+00,\n",
       "         0.00000000e+00],\n",
       "       [ 0.00000000e+00, -6.94444444e-63,  0.00000000e+00,\n",
       "         0.00000000e+00],\n",
       "       [ 0.00000000e+00,  0.00000000e+00, -1.20000000e+31,\n",
       "         0.00000000e+00],\n",
       "       [ 0.00000000e+00,  0.00000000e+00,  0.00000000e+00,\n",
       "        -1.20000000e+31]])"
      ]
     },
     "execution_count": 1124,
     "metadata": {},
     "output_type": "execute_result"
    }
   ],
   "source": [
    "analytical_ch[1]"
   ]
  },
  {
   "cell_type": "code",
   "execution_count": 1125,
   "id": "6dfd50f2",
   "metadata": {},
   "outputs": [
    {
     "data": {
      "text/plain": [
       "array([[nan, nan, nan, nan],\n",
       "       [nan, nan, nan, nan],\n",
       "       [nan, nan, nan, nan],\n",
       "       [nan, nan, nan, nan]])"
      ]
     },
     "execution_count": 1125,
     "metadata": {},
     "output_type": "execute_result"
    }
   ],
   "source": [
    "calculated_ch[1]"
   ]
  },
  {
   "cell_type": "markdown",
   "id": "aecf2d4b",
   "metadata": {},
   "source": [
    "We create a general function for taking the Jacobian of a metric:"
   ]
  },
  {
   "cell_type": "markdown",
   "id": "7f5379b6",
   "metadata": {},
   "source": [
    "We now "
   ]
  },
  {
   "cell_type": "code",
   "execution_count": null,
   "id": "83a14533",
   "metadata": {},
   "outputs": [],
   "source": [
    "def kerr_metric(coords, M=15000, a=0.97):\n",
    "    t = coords[0]\n",
    "    r = coords[1]\n",
    "    theta = coords[2]\n",
    "    phi = coords[3]\n",
    "    sigma = r ** 2 + a ** 2 * torch.cos(theta) ** 2\n",
    "    delta = r ** 2 - 2 * M * r + a ** 2\n",
    "    g = torch.zeros(4, 4)\n",
    "    g[0][0] = -(1 - (2 * M * r) /sigma)\n",
    "    g[0][3] = -(2 * M * r * a * torch.sin(theta) ** 2) / sigma\n",
    "    g[1][1] = sigma / delta\n",
    "    g[2][2] = sigma\n",
    "    g[3][0] = -(2 * M * r * a * torch.sin(theta) ** 2) / sigma\n",
    "    g[3][3] = (r ** 2 + a ** 2 + (2 * M * r * a ** 2)/sigma * torch.sin(theta) ** 2) * torch.sin(theta) ** 2\n",
    "    return g\n",
    "\n",
    "def kerr_inverse_metric(coords, M=15000, a=0.97):\n",
    "    # Based off https://www.roma1.infn.it/teongrav/onde19_20/kerr.pdf\n",
    "    t = coords[0]\n",
    "    r = coords[1]\n",
    "    theta = coords[2]\n",
    "    phi = coords[3]\n",
    "    sigma = r ** 2 + a ** 2 * torch.cos(theta) ** 2\n",
    "    delta = r ** 2 - 2 * M * r + a ** 2\n",
    "    g_inv = torch.zeros(4, 4)\n",
    "    g_inv[0][0] = -1 / delta * (r ** 2 + a ** 2 + (2 * M * r * a ** 2) / sigma * torch.sin(theta) ** 2)\n",
    "    g_inv[0][3] = -(2 * M * r * a) / (sigma * delta)\n",
    "    g_inv[1][1] = delta / sigma\n",
    "    g_inv[2][2] = 1 / sigma\n",
    "    g_inv[3][0] = -(2 * M * r * a) / (sigma * delta)\n",
    "    g_inv[3][3] = (delta - a ** 2 * torch.sin(theta) ** 2) / (sigma * delta * torch.sin(theta) ** 2)\n",
    "    return g_inv"
   ]
  },
  {
   "cell_type": "markdown",
   "id": "27680c96",
   "metadata": {},
   "source": [
    "And for our initial conditions, we use the following null vector:"
   ]
  },
  {
   "cell_type": "markdown",
   "id": "d1f3e7f5",
   "metadata": {},
   "source": [
    "$$\n",
    "U^\\mu = \\left\\langle \\frac{r^2 + a^2}{\\Delta}, \\pm 1, 0, \\frac{a}{\\Delta} \\right\\rangle\n",
    "$$"
   ]
  },
  {
   "cell_type": "code",
   "execution_count": 470,
   "id": "3473a756",
   "metadata": {},
   "outputs": [],
   "source": [
    "def metric_d_ds(X, s, metric=kerr_metric, inverse_metric=kerr_inverse_metric):\n",
    "    \"\"\"\n",
    "    The value of the 4 first and 4 second\n",
    "    derivatives with respect to an affine\n",
    "    parameter s\n",
    "    \"\"\"\n",
    "    # Create a new vector to hold the new positions and velocities\n",
    "    # after each step\n",
    "    u = np.zeros(X.shape)\n",
    "    # X is a vector with 4 components of position\n",
    "    # and 4 components of velocity\n",
    "    x = X[:4]\n",
    "    velocities = X[4:]\n",
    "    # Find the first 4 derivatives (dx/ds) - these are the\n",
    "    # components of 4-velocity\n",
    "    u[:4] = velocities\n",
    "    # Find christoffel symbols given the position and the metric\n",
    "    # here t is coordinate time, not the affine parameter s\n",
    "    x0, x1, x2, x3 = x\n",
    "    m_jacob = metric_jacob(metric, x0, x1, x2, x3)\n",
    "    inverse_m = create_inverse_metric(inverse_metric, x0, x1, x2, x3)\n",
    "    Gamma = christoffel_4d_from_jacob(m_jacob, inverse_m)\n",
    "    # Given the christoffel symbols, calculate the next 4\n",
    "    # derivatives (dU/ds) - these are the components of\n",
    "    # 4-acceleration\n",
    "    for mu in range(4):\n",
    "        for alpha in range(4):\n",
    "            for beta in range(4):\n",
    "                # Solve for x components\n",
    "                # we sum due to the Einstein summation convention\n",
    "                u[4 + mu] += -Gamma[mu][alpha][beta] * velocities[alpha] * velocities[beta]\n",
    "    return u"
   ]
  },
  {
   "cell_type": "markdown",
   "id": "0c1fa139",
   "metadata": {},
   "source": [
    "Again, to troubleshoot, we will first use the simpler Schwarzschild metric, and then use the more complex Kerr metric."
   ]
  },
  {
   "cell_type": "code",
   "execution_count": 471,
   "id": "4a6ad70f",
   "metadata": {},
   "outputs": [],
   "source": [
    "c = 1 # as we use geometrized units"
   ]
  },
  {
   "cell_type": "code",
   "execution_count": 472,
   "id": "4b57cad4",
   "metadata": {},
   "outputs": [],
   "source": [
    "a = 0.97\n",
    "M = 15000"
   ]
  },
  {
   "cell_type": "code",
   "execution_count": 473,
   "id": "dbe18076",
   "metadata": {},
   "outputs": [],
   "source": [
    "t0 = 0\n",
    "r0 = 6 * M # orbital radius of 4M\n",
    "theta0 = np.pi / 4\n",
    "phi0 = 0"
   ]
  },
  {
   "cell_type": "code",
   "execution_count": 474,
   "id": "887c4cbe",
   "metadata": {},
   "outputs": [],
   "source": [
    "delta = r0 ** 2 - 2 * M * r0 + a ** 2\n",
    "v_t0 = (r0 ** 2 + a ** 2) / delta\n",
    "v_r0 = c # here, positive is outgoing, negative is ingoing geodesic\n",
    "v_theta0 = 0\n",
    "v_phi0 = a / delta"
   ]
  },
  {
   "cell_type": "code",
   "execution_count": 475,
   "id": "25950d64",
   "metadata": {},
   "outputs": [],
   "source": [
    "u0 = np.array([t0, r0, theta0, phi0, v_t0, v_r0, v_theta0, v_phi0])"
   ]
  },
  {
   "cell_type": "code",
   "execution_count": 476,
   "id": "b3f91a6c",
   "metadata": {},
   "outputs": [],
   "source": [
    "# keep this low, as in geometrized units time is\n",
    "# in units of length, so any big number is going to\n",
    "# make the geodesic integrator blow up\n",
    "tf = 15"
   ]
  },
  {
   "cell_type": "code",
   "execution_count": 477,
   "id": "cfd4439f",
   "metadata": {
    "scrolled": true
   },
   "outputs": [
    {
     "name": "stderr",
     "output_type": "stream",
     "text": [
      "100%|███████████████████████████████████████████████████████████████| 500/500 [01:40<00:00,  4.97it/s]\n"
     ]
    }
   ],
   "source": [
    "x_sol, t_sol = rk4(metric_d_ds, u0, 0, tf, 500)"
   ]
  },
  {
   "cell_type": "code",
   "execution_count": 478,
   "id": "6cad6144",
   "metadata": {},
   "outputs": [],
   "source": [
    "r = x_sol[:,1]\n",
    "theta = x_sol[:,2]\n",
    "phi = x_sol[:,3]"
   ]
  },
  {
   "cell_type": "code",
   "execution_count": 479,
   "id": "13522193",
   "metadata": {},
   "outputs": [
    {
     "data": {
      "image/png": "[encoded data removed]",
      "text/plain": [
       "<Figure size 640x480 with 1 Axes>"
      ]
     },
     "metadata": {},
     "output_type": "display_data"
    }
   ],
   "source": [
    "fig = plt.figure()\n",
    "ax = plt.axes(projection=\"3d\")\n",
    "\n",
    "x = r * np.sin(theta) * np.cos(phi)\n",
    "y = r * np.sin(theta) * np.sin(phi)\n",
    "z = r * np.cos(theta)\n",
    "\n",
    "ax.plot3D(x, y, z)\n",
    "\n",
    "# plot a point to show where the BH is\n",
    "ax.scatter3D(0, 0, 0, s=30, c=\"black\")\n",
    "\n",
    "# plot a point to show where the starting point is\n",
    "ax.scatter3D(x[0], y[0], z[0], c=\"green\", marker=\"P\")\n",
    "\n",
    "ax.set_title(\"Null geodesics 3D plot\")\n",
    "plt.show()"
   ]
  },
  {
   "cell_type": "markdown",
   "id": "f0164325",
   "metadata": {},
   "source": [
    "We setup our initial conditions (based on https://www.roma1.infn.it/teongrav/onde19_20/kerr.pdf) and numerically solve. We solve the geodesic equation as a system of 1st-order differential equations:"
   ]
  },
  {
   "cell_type": "markdown",
   "id": "a52d2c18",
   "metadata": {},
   "source": [
    "$$\n",
    "\\frac{dx^\\mu}{ds} = U^\\mu\n",
    "$$\n",
    "\n",
    "$$\n",
    "\\frac{d U^\\mu}{ds} = -\\Gamma^\\mu_{\\alpha \\beta} \\frac{dx^\\alpha}{ds} \\frac{dx^\\beta}{ds}\n",
    "$$"
   ]
  },
  {
   "cell_type": "markdown",
   "id": "1817de44",
   "metadata": {},
   "source": [
    "And for our initial conditions, we use the following null vector:"
   ]
  },
  {
   "cell_type": "markdown",
   "id": "d74f6dc5",
   "metadata": {},
   "source": [
    "$$\n",
    "U^\\mu = \\left\\langle \\frac{r^2 + a^2}{\\Delta}, \\pm 1, 0, \\frac{a}{\\Delta} \\right\\rangle\n",
    "$$"
   ]
  },
  {
   "cell_type": "code",
   "execution_count": 470,
   "id": "a22095c3",
   "metadata": {},
   "outputs": [],
   "source": [
    "def metric_d_ds(X, s, metric=kerr_metric, inverse_metric=kerr_inverse_metric):\n",
    "    \"\"\"\n",
    "    The value of the 4 first and 4 second\n",
    "    derivatives with respect to an affine\n",
    "    parameter s\n",
    "    \"\"\"\n",
    "    # Create a new vector to hold the new positions and velocities\n",
    "    # after each step\n",
    "    u = np.zeros(X.shape)\n",
    "    # X is a vector with 4 components of position\n",
    "    # and 4 components of velocity\n",
    "    x = X[:4]\n",
    "    velocities = X[4:]\n",
    "    # Find the first 4 derivatives (dx/ds) - these are the\n",
    "    # components of 4-velocity\n",
    "    u[:4] = velocities\n",
    "    # Find christoffel symbols given the position and the metric\n",
    "    # here t is coordinate time, not the affine parameter s\n",
    "    x0, x1, x2, x3 = x\n",
    "    m_jacob = metric_jacob(metric, x0, x1, x2, x3)\n",
    "    inverse_m = create_inverse_metric(inverse_metric, x0, x1, x2, x3)\n",
    "    Gamma = christoffel_4d_from_jacob(m_jacob, inverse_m)\n",
    "    # Given the christoffel symbols, calculate the next 4\n",
    "    # derivatives (dU/ds) - these are the components of\n",
    "    # 4-acceleration\n",
    "    for mu in range(4):\n",
    "        for alpha in range(4):\n",
    "            for beta in range(4):\n",
    "                # Solve for x components\n",
    "                # we sum due to the Einstein summation convention\n",
    "                u[4 + mu] += -Gamma[mu][alpha][beta] * velocities[alpha] * velocities[beta]\n",
    "    return u"
   ]
  },
  {
   "cell_type": "markdown",
   "id": "daaa47ef",
   "metadata": {},
   "source": [
    "Again, to troubleshoot, we will first use the simpler Schwarzschild metric, and then use the more complex Kerr metric."
   ]
  },
  {
   "cell_type": "code",
   "execution_count": 445,
   "id": "aa924081",
   "metadata": {},
   "outputs": [],
   "source": [
    "def sch_metric(coords, M=15000):\n",
    "    t = coords[0]\n",
    "    r = coords[1]\n",
    "    theta = coords[2]\n",
    "    phi = coords[3]\n",
    "    r_s = 2 * M\n",
    "    g = torch.zeros(4, 4)\n",
    "    g[0][0] = -(1 - (r_s / r))\n",
    "    g[1][1] = (1 / (1 - (r_s / r)))\n",
    "    g[2][2] = r ** 2\n",
    "    g[3][3] = r ** 2 * (torch.sin(theta) ** 2)\n",
    "    return g"
   ]
  },
  {
   "cell_type": "code",
   "execution_count": 446,
   "id": "788487e7",
   "metadata": {},
   "outputs": [],
   "source": [
    "def inv_sch_metric(coords, M=15000):\n",
    "    t = coords[0]\n",
    "    r = coords[1]\n",
    "    theta = coords[2]\n",
    "    phi = coords[3]\n",
    "    r_s = 2 * M\n",
    "    g = torch.zeros(4, 4)\n",
    "    g[0][0] = 1 / -(1 - (r_s / r))\n",
    "    g[1][1] = 1 - (r_s / r)\n",
    "    g[2][2] = 1 / (r ** 2)\n",
    "    g[3][3] = 1 / (r ** 2 * (torch.sin(theta) ** 2))\n",
    "    return g"
   ]
  },
  {
   "cell_type": "code",
   "execution_count": 471,
   "id": "19cf2ba8",
   "metadata": {},
   "outputs": [],
   "source": [
    "c = 1 # as we use geometrized units"
   ]
  },
  {
   "cell_type": "code",
   "execution_count": 472,
   "id": "60b97ec6",
   "metadata": {},
   "outputs": [],
   "source": [
    "a = 0.97\n",
    "M = 15000"
   ]
  },
  {
   "cell_type": "code",
   "execution_count": 473,
   "id": "ba9015e1",
   "metadata": {},
   "outputs": [],
   "source": [
    "t0 = 0\n",
    "r0 = 6 * M # orbital radius of 4M\n",
    "theta0 = np.pi / 4\n",
    "phi0 = 0"
   ]
  },
  {
   "cell_type": "code",
   "execution_count": 474,
   "id": "9d56971b",
   "metadata": {},
   "outputs": [],
   "source": [
    "delta = r0 ** 2 - 2 * M * r0 + a ** 2\n",
    "v_t0 = (r0 ** 2 + a ** 2) / delta\n",
    "v_r0 = c # here, positive is outgoing, negative is ingoing geodesic\n",
    "v_theta0 = 0\n",
    "v_phi0 = a / delta"
   ]
  },
  {
   "cell_type": "code",
   "execution_count": 475,
   "id": "5a3e4a69",
   "metadata": {},
   "outputs": [],
   "source": [
    "u0 = np.array([t0, r0, theta0, phi0, v_t0, v_r0, v_theta0, v_phi0])"
   ]
  },
  {
   "cell_type": "code",
   "execution_count": 476,
   "id": "e3d5f602",
   "metadata": {},
   "outputs": [],
   "source": [
    "# keep this low, as in geometrized units time is\n",
    "# in units of length, so any big number is going to\n",
    "# make the geodesic integrator blow up\n",
    "tf = 15"
   ]
  },
  {
   "cell_type": "code",
   "execution_count": 477,
   "id": "42e52dd9",
   "metadata": {
    "scrolled": true
   },
   "outputs": [
    {
     "name": "stderr",
     "output_type": "stream",
     "text": [
      "100%|███████████████████████████████████████████████████████████████| 500/500 [01:40<00:00,  4.97it/s]\n"
     ]
    }
   ],
   "source": [
    "x_sol, t_sol = rk4(metric_d_ds, u0, 0, tf, 500)"
   ]
  },
  {
   "cell_type": "code",
   "execution_count": 478,
   "id": "3b954940",
   "metadata": {},
   "outputs": [],
   "source": [
    "r = x_sol[:,1]\n",
    "theta = x_sol[:,2]\n",
    "phi = x_sol[:,3]"
   ]
  },
  {
   "cell_type": "code",
   "execution_count": 479,
   "id": "4ced8320",
   "metadata": {},
   "outputs": [
    {
     "data": {
      "image/png": "[encoded data removed]",
      "text/plain": [
       "<Figure size 640x480 with 1 Axes>"
      ]
     },
     "metadata": {},
     "output_type": "display_data"
    }
   ],
   "source": [
    "fig = plt.figure()\n",
    "ax = plt.axes(projection=\"3d\")\n",
    "\n",
    "x = r * np.sin(theta) * np.cos(phi)\n",
    "y = r * np.sin(theta) * np.sin(phi)\n",
    "z = r * np.cos(theta)\n",
    "\n",
    "ax.plot3D(x, y, z)\n",
    "\n",
    "# plot a point to show where the BH is\n",
    "ax.scatter3D(0, 0, 0, s=30, c=\"black\")\n",
    "\n",
    "# plot a point to show where the starting point is\n",
    "ax.scatter3D(x[0], y[0], z[0], c=\"green\", marker=\"P\")\n",
    "\n",
    "ax.set_title(\"Null geodesics 3D plot\")\n",
    "plt.show()"
   ]
  },
  {
   "cell_type": "code",
   "execution_count": null,
   "id": "8dfb9c52",
   "metadata": {},
   "outputs": [],
   "source": []
  },
  {
   "cell_type": "code",
   "execution_count": null,
   "id": "fb9adec7",
   "metadata": {},
   "outputs": [],
   "source": []
  },
  {
   "cell_type": "code",
   "execution_count": null,
   "id": "f8e6463b",
   "metadata": {},
   "outputs": [],
   "source": []
  }
 ],
 "metadata": {
  "kernelspec": {
   "display_name": "Python 3 (ipykernel)",
   "language": "python",
   "name": "python3"
  },
  "language_info": {
   "codemirror_mode": {
    "name": "ipython",
    "version": 3
   },
   "file_extension": ".py",
   "mimetype": "text/x-python",
   "name": "python",
   "nbconvert_exporter": "python",
   "pygments_lexer": "ipython3",
   "version": "3.11.4"
  }
 },
 "nbformat": 4,
 "nbformat_minor": 5
}
