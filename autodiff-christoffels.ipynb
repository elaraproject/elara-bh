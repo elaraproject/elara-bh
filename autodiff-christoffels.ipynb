{
 "cells": [
  {
   "cell_type": "markdown",
   "id": "e227b640",
   "metadata": {},
   "source": [
    "# Autodiff testing"
   ]
  },
  {
   "cell_type": "markdown",
   "id": "3466b521",
   "metadata": {},
   "source": [
    "Formulas:"
   ]
  },
  {
   "cell_type": "markdown",
   "id": "1b537a31",
   "metadata": {},
   "source": [
    "$$\n",
    "\\Gamma^\\beta_{\\mu \\nu} = \\frac{1}{2} g^{\\beta \\alpha} \n",
    "\\left(\\frac{\\partial g_{\\mu \\alpha}}{\\partial x^\\nu} +\n",
    "\\frac{\\partial g_{\\alpha \\nu}}{\\partial x^\\mu} -\n",
    "\\frac{\\partial g_{\\mu \\nu}}{\\partial x^\\alpha}\\right)\n",
    "$$"
   ]
  },
  {
   "cell_type": "code",
   "execution_count": 1,
   "id": "f4f3cac2",
   "metadata": {},
   "outputs": [],
   "source": [
    "import numpy as np"
   ]
  },
  {
   "cell_type": "code",
   "execution_count": 2,
   "id": "186d4abc",
   "metadata": {},
   "outputs": [],
   "source": [
    "import jax"
   ]
  },
  {
   "cell_type": "code",
   "execution_count": 97,
   "id": "12c84220",
   "metadata": {},
   "outputs": [],
   "source": [
    "class Metric:\n",
    "    \"\"\"\n",
    "    Utility class for storing a 4D\n",
    "    spacetime metric as a\n",
    "    matrix of functions\n",
    "    \"\"\"\n",
    "    \n",
    "    def __init__(self, name):\n",
    "        self.name = name\n",
    "        self.components = [[lambda x0, x1, x2, x3: 0.0 for i in range(4)] for j in range(4)]\n",
    "        self.derivatives = [[[lambda x0, x1, x2, x3: 0.0 for i in range(4)] for j in range(4)] for k in range(4)]\n",
    "    \n",
    "    # Note: all added components must\n",
    "    # have functions that take in floats\n",
    "    # and return floats\n",
    "    def add_component(self, i, j, func):\n",
    "        # Add the component's value\n",
    "        self.components[i][j] = func\n",
    "        # Add the component's derivative\n",
    "        for k in range(4):\n",
    "            self.derivatives[i][j][k] = jax.grad(func, k)\n",
    "    \n",
    "    # Returns a function corresponding\n",
    "    # to the g_ij element of the metric\n",
    "    def component(self, i, j):\n",
    "        return self.components[i][j]\n",
    "    \n",
    "    # Returns a function corresponding\n",
    "    # to the derivative of the g_ij element\n",
    "    # of the metric with respect to x^k\n",
    "    def diff(self, i, j, k):\n",
    "        return self.derivatives[i][j][k]\n",
    "    \n",
    "    def __repr__(self):\n",
    "        return f\"Metric({self.name})\"\n",
    "    \n",
    "    def __str__(self):\n",
    "        return f\"Metric({self.name})\""
   ]
  },
  {
   "cell_type": "code",
   "execution_count": 98,
   "id": "cb5cb445",
   "metadata": {},
   "outputs": [],
   "source": [
    "class InverseMetric:\n",
    "    \"\"\"\n",
    "    Utility class for storing a 4D\n",
    "    inverse spacetime metric as a\n",
    "    matrix of functions\n",
    "    \"\"\"\n",
    "    \n",
    "    def __init__(self, name):\n",
    "        self.name = name\n",
    "        self.components = [[lambda x0, x1, x2, x3: 0 for i in range(4)] for j in range(4)]\n",
    "    \n",
    "    # Note: all added components must\n",
    "    # have functions that take in floats\n",
    "    # and return floats\n",
    "    def add_component(self, i, j, func):\n",
    "        self.components[i][j] = func\n",
    "    \n",
    "    # Returns a function corresponding\n",
    "    # to the g^ij element of the metric\n",
    "    def component(self, i, j):\n",
    "        return self.components[i][j]\n",
    "    \n",
    "    def __repr__(self):\n",
    "        return f\"InverseMetric({self.name})\"\n",
    "    \n",
    "    def __str__(self):\n",
    "        return f\"InverseMetric({self.name})\""
   ]
  },
  {
   "cell_type": "code",
   "execution_count": 231,
   "id": "884efae5",
   "metadata": {},
   "outputs": [],
   "source": [
    "class Christoffel:\n",
    "    \"\"\"\n",
    "    Utility class for storing the Christoffel\n",
    "    symbols of a given spacetime metric\n",
    "    \"\"\"\n",
    "    \n",
    "    def __init__(self, m, inv_m, debug=False):\n",
    "        if m.name != inv_m.name:\n",
    "            raise ValueError(f\"Your metric ({metric.name}) and inverse metric \\\n",
    "                    ({inverse_metric.name}) do not match.\")\n",
    "        self.name = m.name + \"_christoffels\"\n",
    "        self.metric = m\n",
    "        self.inverse_metric = inv_m\n",
    "    \n",
    "    def component(self, beta, mu, nu):\n",
    "        inv_m = self.inverse_metric\n",
    "        m = self.metric\n",
    "        # We have to explicitly define each lambda function as functions of (x0, x1, x2, x3)\n",
    "        # in order to pass Python's syntax checking\n",
    "        symbol = lambda alpha, x0, x1, x2, x3: (1/2) * inv_m.component(beta, alpha)(x0, x1, x2, x3) \\\n",
    "                             * (m.diff(mu, alpha, nu)(x0, x1, x2, x3) \\\n",
    "                                 + m.diff(alpha, nu, mu)(x0, x1, x2, x3) \\\n",
    "                                 - m.diff(mu, nu, alpha)(x0, x1, x2, x3))\n",
    "        # We sum over alpha in accordance with the Einstein summation convention\n",
    "        return lambda x0, x1, x2, x3: sum(symbol(alpha, x0, x1, x2, x3) for alpha in range(4))\n",
    "    \n",
    "    def matrix(self, x0, x1, x2, x3):\n",
    "        Gamma = np.zeros((4, 4, 4))\n",
    "        for i in range(4):\n",
    "            for j in range(4):\n",
    "                for k in range(4):\n",
    "                    Gamma[i][j][k] += self.component(i, j, k)(x0, x1, x2, x3)\n",
    "        return Gamma\n",
    "    \n",
    "    # TODO: add derivatives of Christoffel symbols later for Ricci/Riemann tensor"
   ]
  },
  {
   "cell_type": "markdown",
   "id": "e155475d",
   "metadata": {},
   "source": [
    "## Testing on Minkowski spherical metric"
   ]
  },
  {
   "cell_type": "code",
   "execution_count": 80,
   "id": "6f2e488d",
   "metadata": {},
   "outputs": [],
   "source": [
    "mink = Metric(\"minkowski_spherical\")"
   ]
  },
  {
   "cell_type": "code",
   "execution_count": 81,
   "id": "6db11961",
   "metadata": {},
   "outputs": [
    {
     "data": {
      "text/plain": [
       "Metric(name=minkowski_spherical)"
      ]
     },
     "execution_count": 81,
     "metadata": {},
     "output_type": "execute_result"
    }
   ],
   "source": [
    "mink"
   ]
  },
  {
   "cell_type": "code",
   "execution_count": 82,
   "id": "eee82e9d",
   "metadata": {},
   "outputs": [],
   "source": [
    "mink.add_component(0, 0, lambda t, r, theta, phi: -1.0)"
   ]
  },
  {
   "cell_type": "code",
   "execution_count": 83,
   "id": "e6d9c537",
   "metadata": {},
   "outputs": [],
   "source": [
    "mink.add_component(1, 1, lambda t, r, theta, phi: 1.0)"
   ]
  },
  {
   "cell_type": "code",
   "execution_count": 84,
   "id": "e34f719b",
   "metadata": {},
   "outputs": [],
   "source": [
    "mink.add_component(2, 2, lambda t, r, theta, phi: r ** 2)"
   ]
  },
  {
   "cell_type": "code",
   "execution_count": 85,
   "id": "e8334108",
   "metadata": {},
   "outputs": [],
   "source": [
    "mink.add_component(3, 3, lambda t, r, theta, phi: r ** 2 * (jax.numpy.sin(theta)) ** 2)"
   ]
  },
  {
   "cell_type": "code",
   "execution_count": 86,
   "id": "931b1f06",
   "metadata": {},
   "outputs": [],
   "source": [
    "mink_inv = InverseMetric(\"minkowski_spherical\")"
   ]
  },
  {
   "cell_type": "code",
   "execution_count": 91,
   "id": "9039c084",
   "metadata": {},
   "outputs": [
    {
     "data": {
      "text/plain": [
       "InverseMetric(name=minkowski_spherical)"
      ]
     },
     "execution_count": 91,
     "metadata": {},
     "output_type": "execute_result"
    }
   ],
   "source": [
    "mink_inv"
   ]
  },
  {
   "cell_type": "code",
   "execution_count": 92,
   "id": "abfbcd4b",
   "metadata": {},
   "outputs": [],
   "source": [
    "mink_inv.add_component(0, 0, lambda t, r, theta, phi: -1.0)"
   ]
  },
  {
   "cell_type": "code",
   "execution_count": 93,
   "id": "9b67ee65",
   "metadata": {},
   "outputs": [],
   "source": [
    "mink_inv.add_component(1, 1, lambda t, r, theta, phi: 1.0)"
   ]
  },
  {
   "cell_type": "code",
   "execution_count": 94,
   "id": "82097a83",
   "metadata": {},
   "outputs": [],
   "source": [
    "mink_inv.add_component(2, 2, lambda t, r, theta, phi: 1.0 / (r ** 2))"
   ]
  },
  {
   "cell_type": "code",
   "execution_count": 95,
   "id": "5e550ad4",
   "metadata": {},
   "outputs": [],
   "source": [
    "mink_inv.add_component(3, 3, lambda t, r, theta, phi: 1.0 / (r ** 2 * (jax.numpy.sin(theta)) ** 2))"
   ]
  },
  {
   "cell_type": "markdown",
   "id": "6b7f86be",
   "metadata": {},
   "source": [
    "Test:\n",
    "\n",
    "$$\n",
    "\\frac{\\partial}{\\partial r}r^2 \\sin^2 \\theta  = 2r \\sin^2 \\theta \\, \\bigg |_{(0, 1, \\pi / 2, 0)} = 2\n",
    "$$"
   ]
  },
  {
   "cell_type": "code",
   "execution_count": 74,
   "id": "02d83c37",
   "metadata": {},
   "outputs": [],
   "source": [
    "t0 = 0.0\n",
    "r0 = 1.0\n",
    "theta0 = np.pi / 2\n",
    "phi0 = 0.0"
   ]
  },
  {
   "cell_type": "code",
   "execution_count": 159,
   "id": "9c824eb4",
   "metadata": {},
   "outputs": [
    {
     "data": {
      "text/plain": [
       "Array(2., dtype=float32, weak_type=True)"
      ]
     },
     "execution_count": 159,
     "metadata": {},
     "output_type": "execute_result"
    }
   ],
   "source": [
    "mink.diff(3, 3, 1)(t0, r0, theta0, phi0) # should be 2"
   ]
  },
  {
   "cell_type": "code",
   "execution_count": 76,
   "id": "26548854",
   "metadata": {},
   "outputs": [
    {
     "data": {
      "text/plain": [
       "Array(0., dtype=float32, weak_type=True)"
      ]
     },
     "execution_count": 76,
     "metadata": {},
     "output_type": "execute_result"
    }
   ],
   "source": [
    "mink.diff(0, 0, 1)(t0, r0, theta0, phi0) # should be 0"
   ]
  },
  {
   "cell_type": "code",
   "execution_count": 158,
   "id": "d93db26c",
   "metadata": {},
   "outputs": [
    {
     "data": {
      "text/plain": [
       "Array(-8.742278e-08, dtype=float32, weak_type=True)"
      ]
     },
     "execution_count": 158,
     "metadata": {},
     "output_type": "execute_result"
    }
   ],
   "source": [
    "mink.diff(3, 3, 2)(t0, r0, theta0, phi0) # should be 0 (or basically 0)"
   ]
  },
  {
   "cell_type": "markdown",
   "id": "81bba2c6",
   "metadata": {},
   "source": [
    "Test christoffel symbols:"
   ]
  },
  {
   "cell_type": "code",
   "execution_count": 232,
   "id": "02eee270",
   "metadata": {},
   "outputs": [],
   "source": [
    "mink_ch = Christoffel(mink, mink_inv, debug=True)"
   ]
  },
  {
   "cell_type": "code",
   "execution_count": 233,
   "id": "c78ad88f",
   "metadata": {},
   "outputs": [
    {
     "data": {
      "text/plain": [
       "Array(-1., dtype=float32, weak_type=True)"
      ]
     },
     "execution_count": 233,
     "metadata": {},
     "output_type": "execute_result"
    }
   ],
   "source": [
    "mink_ch.component(1, 2, 2)(t0, r0, theta0, phi0) # should be -1"
   ]
  },
  {
   "cell_type": "code",
   "execution_count": 237,
   "id": "899480bb",
   "metadata": {},
   "outputs": [
    {
     "data": {
      "text/plain": [
       "Array(1., dtype=float32, weak_type=True)"
      ]
     },
     "execution_count": 237,
     "metadata": {},
     "output_type": "execute_result"
    }
   ],
   "source": [
    "mink_ch.component(3, 1, 3)(t0, r0, theta0, phi0) # should be 1"
   ]
  }
 ],
 "metadata": {
  "kernelspec": {
   "display_name": "Python 3 (ipykernel)",
   "language": "python",
   "name": "python3"
  },
  "language_info": {
   "codemirror_mode": {
    "name": "ipython",
    "version": 3
   },
   "file_extension": ".py",
   "mimetype": "text/x-python",
   "name": "python",
   "nbconvert_exporter": "python",
   "pygments_lexer": "ipython3",
   "version": "3.11.4"
  }
 },
 "nbformat": 4,
 "nbformat_minor": 5
}
