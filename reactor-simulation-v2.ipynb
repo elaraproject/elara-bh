{
 "cells": [
  {
   "cell_type": "markdown",
   "id": "29794553",
   "metadata": {},
   "source": [
    "# Simulating superradiant scattering around Kerr black holes"
   ]
  },
  {
   "cell_type": "markdown",
   "id": "c4ef58b2",
   "metadata": {},
   "source": [
    "We use $c = G = 1$."
   ]
  },
  {
   "cell_type": "markdown",
   "id": "4eedd360",
   "metadata": {},
   "source": [
    "The Kerr metric is given by:"
   ]
  },
  {
   "cell_type": "markdown",
   "id": "286cf952",
   "metadata": {},
   "source": [
    "$$\n",
    "g_{\\mu\\nu} = \\pmatrix{\n",
    "\t-(1 - \\frac{2 M r}{\\Sigma}) & 0 & 0 & -\\frac{2 M r a \\sin^2 \\theta}{\\Sigma} \\\\\n",
    "\t0 & \\frac{\\Sigma}{\\Delta} & 0 & 0 \\\\\n",
    "\t0 & 0 & \\Sigma & 0 \\\\\n",
    "\t-\\frac{2 M r a \\sin^2 \\theta}{\\Sigma} & 0 & 0 & (r^2 + a^2 + \\frac{2 M r a^2}{\\Sigma} \\sin^2 \\theta) \\sin^2 \\theta\n",
    "}\n",
    "$$"
   ]
  },
  {
   "cell_type": "markdown",
   "id": "06cba2d0",
   "metadata": {},
   "source": [
    "Where:"
   ]
  },
  {
   "cell_type": "markdown",
   "id": "56504581",
   "metadata": {},
   "source": [
    "$$\n",
    "a = \\frac{J}{M}\n",
    "$$\n",
    "$$\n",
    "\\Sigma = r^2 + a^2 \\cos^2 \\theta\n",
    "$$\n",
    "$$\n",
    "\\Delta = r^2 - 2Mr + a^2\n",
    "$$"
   ]
  },
  {
   "cell_type": "markdown",
   "id": "65e254ab",
   "metadata": {},
   "source": [
    "And the inverse metric is given by:"
   ]
  },
  {
   "cell_type": "markdown",
   "id": "24dbd053",
   "metadata": {},
   "source": [
    "$$\n",
    "g^{\\mu\\nu} = \\pmatrix{\n",
    "\t-\\frac{1}{\\Delta} (r^2 + a^2 + \\frac{2 M r a^2}{\\Sigma} \\sin^2 \\theta) &\n",
    "\t\t0 &\n",
    "\t\t0 &\n",
    "\t\t-\\frac{2 M r a}{\\Delta \\Sigma} \\\\\n",
    "\t0 & \\frac{\\Delta}{\\Sigma} & 0 & 0 \\\\\n",
    "\t0 & 0 & \\frac{1}{\\Sigma} & 0 \\\\\n",
    "\t-\\frac{2 M r a}{\\Delta \\Sigma} &\n",
    "\t\t0 & \n",
    "\t\t0 & \n",
    "\t\t\\frac{1}{\\Delta \\sin^2 \\theta} (1 - \\frac{2 M r}{\\Sigma})\n",
    "}\n",
    "$$"
   ]
  },
  {
   "cell_type": "markdown",
   "id": "8484bbf3",
   "metadata": {},
   "source": [
    "We aim to find the energy through the following line integral:"
   ]
  },
  {
   "cell_type": "markdown",
   "id": "7d605bec",
   "metadata": {},
   "source": [
    "$$\n",
    "E = \\frac{Mha}{\\pi} \\int_C \\frac{r}{\\Sigma^2} \\cdot ds\n",
    "$$"
   ]
  },
  {
   "cell_type": "markdown",
   "id": "7fd445a9",
   "metadata": {},
   "source": [
    "Where $C$ is a parametrized curve that represents a photon's worldline through spacetime, derived through tracing the geodesic of the photon as it travels within the cavity:"
   ]
  },
  {
   "cell_type": "markdown",
   "id": "3190cf6b",
   "metadata": {},
   "source": [
    "$$\n",
    "{d^2 x^\\mu \\over ds^2} =- \\Gamma^\\mu {}_{\\alpha \\beta}{d x^\\alpha \\over ds}{d x^\\beta \\over ds}\n",
    "$$"
   ]
  },
  {
   "cell_type": "markdown",
   "id": "723261bb",
   "metadata": {},
   "source": [
    "To avoid numerical instabilities associated with extremely small numerical values, a 1 solar mass black hole will be simulated, though black holes used in actual applications are likely to be much smaller, on the order of $9 \\times 10^{-22}$ meters. For tracing the geodesic, an RK45 solver is used, with initial conditions:"
   ]
  },
  {
   "cell_type": "markdown",
   "id": "946a78af",
   "metadata": {},
   "source": [
    "$$\n",
    "r_0 = r_E + 99\n",
    "$$\n",
    "\n",
    "$$\n",
    "\\theta_0 = \\frac{\\pi}{2}\n",
    "$$\n",
    "\n",
    "$$\n",
    "\\phi_0 = \\epsilon\n",
    "$$\n",
    "\n",
    "$$\n",
    "\\frac{dr}{d\\lambda} = c = 1\n",
    "$$\n",
    "\n",
    "$$\n",
    "\\frac{d\\theta}{d\\lambda} = \\frac{d\\phi}{d\\lambda} = 0\n",
    "$$"
   ]
  },
  {
   "cell_type": "markdown",
   "id": "74a31e16",
   "metadata": {},
   "source": [
    "where $r_E$ is the outer ergosphere of the black hole given by $\\frac{2M + \\sqrt{4M^2 - 4a^2 \\cos^2 \\theta}}{2}$, and $\\epsilon$ is a very small value, intended to ensure that the test photon is emitted nearly vertically above the black hole. Reflections cause a new path to be traced, where the initial conditions $r_0$, $\\theta_0$, and $\\phi_0$ take the values of $(r, \\theta, \\phi)$ of the reflection point."
   ]
  },
  {
   "cell_type": "code",
   "execution_count": 33,
   "id": "59701414",
   "metadata": {},
   "outputs": [],
   "source": [
    "import trimesh\n",
    "import numpy as np\n",
    "import matplotlib.pyplot as plt\n",
    "import torch"
   ]
  },
  {
   "cell_type": "code",
   "execution_count": 35,
   "id": "a2431a65",
   "metadata": {},
   "outputs": [],
   "source": [
    "def calculate_christoffel(jacob, g_inv, dims):\n",
    "    # based on https://github.com/AndreaAntoniali/Riemann-tensor-calculator/blob/main/Riemann_Calculations.ipynb\n",
    "    gamma = np.zeros((dims, dims, dims))\n",
    "    for beta in range(dims):\n",
    "        for mu in range(dims):\n",
    "            for nu in range(dims):\n",
    "                for alpha in range(dims):\n",
    "                    gamma[beta,mu,nu] = 1/2 * g_inv[alpha][beta] * (jacob[alpha][mu][nu] + jacob[alpha][nu][mu] - jacob[mu][nu][alpha])\n",
    "    return gamma\n",
    "\n",
    "def christoffel_at_point_4d(metric, inverse_metric, t, r, theta, phi, dims):\n",
    "    coord = torch.tensor([t, r, theta, phi], requires_grad=True)\n",
    "    g_inv = inverse_metric(coord)\n",
    "    jacobian = torch.autograd.functional.jacobian(metric, coord, create_graph=True)\n",
    "    return calculate_christoffel(jacobian, g_inv, dims)"
   ]
  },
  {
   "cell_type": "code",
   "execution_count": 36,
   "id": "80050504",
   "metadata": {},
   "outputs": [],
   "source": [
    "def kerr_metric(coords, M=2e30, a=0.97):\n",
    "    t = coords[0]\n",
    "    r = coords[1]\n",
    "    theta = coords[2]\n",
    "    phi = coords[3]\n",
    "    sigma = r ** 2 + a ** 2 * torch.cos(theta) ** 2\n",
    "    delta = r ** 2 - 2 * M * r + a ** 2\n",
    "    return torch.tensor([\n",
    "        [-(1 - (2 * M * r) /sigma), 0., 0., -((2 * M * r * a * torch.sin(theta) ** 2) / sigma)],\n",
    "        [0., sigma / delta, 0., 0.],\n",
    "        [0., 0., sigma, 0.],\n",
    "        [-((2 * M * r * a * torch.sin(theta) ** 2) / sigma), 0., 0., (r ** 2 + a ** 2 + (2 * M * r * a ** 2)/sigma * torch.sin(theta) ** 2) * torch.sin(theta) ** 2]\n",
    "    ])\n",
    "\n",
    "def kerr_inverse_metric(coords, M=2e30, a=0.97):\n",
    "    # Based off https://www.roma1.infn.it/teongrav/onde19_20/kerr.pdf\n",
    "    t = coords[0]\n",
    "    r = coords[1]\n",
    "    theta = coords[2]\n",
    "    phi = coords[3]\n",
    "    sigma = r ** 2 + a ** 2 * torch.cos(theta) ** 2\n",
    "    delta = r ** 2 - 2 * M * r + a ** 2\n",
    "    return torch.tensor([\n",
    "        [-1 / delta * (r ** 2 + a ** 2 + (2 * M * r * a ** 2) / sigma * torch.sin(theta) ** 2), 0., 0., -(2 * M * r * a) / (sigma * delta)],\n",
    "        [0., delta / sigma, 0., 0.],\n",
    "        [0., 0., 1 / sigma, 0.],\n",
    "        [-(2 * M * r * a) / (sigma * delta), 0., 0., (delta - a ** 2 * torch.sin(theta) ** 2) / (sigma * delta * torch.sin(theta) ** 2)]\n",
    "    ])\n",
    "\n",
    "def kerr_d_dt(X, t):\n",
    "    # Array of derivatives\n",
    "    f = np.zeros(X.shape)\n",
    "    x = X[:4]\n",
    "    velocities = X[4:]\n",
    "    f[:4] = velocities\n",
    "    t, r, theta, phi = x\n",
    "    Gamma = christoffel_at_point_4d(kerr_metric, kerr_inverse_metric, t, r, theta, phi, 4)\n",
    "\n",
    "    for i in range(4):\n",
    "        Gamma[:,:,i] += np.transpose(Gamma[:,:,i])\n",
    "        Gamma[:,:,i] -= np.diag(np.diag(Gamma[:,:,i]))/2\n",
    "        f[4 + i] = -velocities @ Gamma[:,:,i] @ velocities\n",
    "    return f"
   ]
  },
  {
   "cell_type": "code",
   "execution_count": 37,
   "id": "0d49128a",
   "metadata": {},
   "outputs": [],
   "source": [
    "def outer_ergosphere(M=2e30, theta=np.pi/2, a=0.97):\n",
    "    return (2 * M + (4 * M ** 2 - 4 * a * (np.cos(theta)) ** 2) ** (1/2)) / 2"
   ]
  },
  {
   "cell_type": "code",
   "execution_count": 39,
   "id": "d0a156a9",
   "metadata": {},
   "outputs": [],
   "source": [
    "def point_xyz_from_spherical(u):\n",
    "    r = u[1]\n",
    "    theta = u[2]\n",
    "    phi = u[3]\n",
    "    # Convert spherical to cartesian\n",
    "    x = r * np.sin(theta) * np.cos(phi)\n",
    "    y = r * np.sin(theta) * np.sin(phi)\n",
    "    z = r * np.cos(theta)\n",
    "    point = [x, y, z]\n",
    "    return point"
   ]
  },
  {
   "cell_type": "code",
   "execution_count": 106,
   "id": "b586cb09",
   "metadata": {},
   "outputs": [],
   "source": [
    "def kerr_intersection_rk4(mesh, f, u0, t0=0, tf=100000, h=0.01, debug=False):\n",
    "    u = u0\n",
    "    t = t0\n",
    "    u_array = [u0]\n",
    "    \n",
    "    while t < tf:\n",
    "        print(\"Value of d/dt, \", f(u, t))\n",
    "        k1 = h * f(u, t)    \n",
    "        k2 = h * f(u + 0.5 * k1, t + 0.5*h)\n",
    "        k3 = h * f(u + 0.5 * k2, t + 0.5*h)\n",
    "        k4 = h * f(u + k3, t + h)\n",
    "        u = u + (k1 + 2*(k2 + k3 ) + k4) / 6\n",
    "        u_array.append(u)\n",
    "        # As trimesh uses cartesian coordinates\n",
    "        # to determine intersection, we convert\n",
    "        # to cartesian coordinates\n",
    "        point = point_xyz_from_spherical(u)\n",
    "        if debug:\n",
    "            print(point)\n",
    "        if is_on_surface(mesh, np.array(point)):\n",
    "            if debug:\n",
    "                print(\"Found point on surface\")\n",
    "            return u_array, u"
   ]
  },
  {
   "cell_type": "code",
   "execution_count": 104,
   "id": "dcc2d694",
   "metadata": {},
   "outputs": [],
   "source": [
    "def is_on_surface(mesh, point, delta=5, debug=True):\n",
    "    # Checks if point is on the surface of the mesh\n",
    "    # with tolerance of 5 meters\n",
    "    a = mesh.ray.contains_points([point - delta])\n",
    "    if a and debug:\n",
    "        print(\"[DEBUG] Determined point is within cavity\")\n",
    "    else:\n",
    "        print(\"[DEBUG] Determined point is not within cavity\")\n",
    "    b = mesh.ray.contains_points([point + delta])\n",
    "    return a == True and b == False"
   ]
  },
  {
   "cell_type": "code",
   "execution_count": 94,
   "id": "1300d7a0",
   "metadata": {},
   "outputs": [],
   "source": [
    "# Create icosphere for reactor cavity\n",
    "mesh = trimesh.creation.icosphere(subdivisions=1, radius=outer_ergosphere() + 1e30)"
   ]
  },
  {
   "cell_type": "code",
   "execution_count": 95,
   "id": "b9ba7624",
   "metadata": {},
   "outputs": [],
   "source": [
    "# samples\n",
    "N = 150"
   ]
  },
  {
   "cell_type": "code",
   "execution_count": 96,
   "id": "4ccd7f64",
   "metadata": {},
   "outputs": [],
   "source": [
    "# constants\n",
    "c = 1.0\n",
    "r0 = outer_ergosphere() + 99\n",
    "theta0 = np.pi / 2\n",
    "phi0 = 1e-6"
   ]
  },
  {
   "cell_type": "code",
   "execution_count": 97,
   "id": "b01722e6",
   "metadata": {},
   "outputs": [],
   "source": [
    "# initial ray position\n",
    "initial = [0.0, r0, theta0, phi0, 1.0, c, 0.0, 0.0]"
   ]
  },
  {
   "cell_type": "code",
   "execution_count": 100,
   "id": "f57efaff",
   "metadata": {},
   "outputs": [],
   "source": [
    "u_spherical = np.array((N + 1) * [initial])"
   ]
  },
  {
   "cell_type": "code",
   "execution_count": 101,
   "id": "d3347ab4",
   "metadata": {},
   "outputs": [],
   "source": [
    "path = [np.array([0, r0, theta0, phi0])]"
   ]
  },
  {
   "cell_type": "code",
   "execution_count": 108,
   "id": "df95b42b",
   "metadata": {},
   "outputs": [
    {
     "name": "stdout",
     "output_type": "stream",
     "text": [
      "Value of d/dt,  [1. 1. 0. 0. 0. 0. 0. 0.]\n",
      "[3.999999999998e+30, 3.999999999999333e+24, 244929359829470.66]\n",
      "[DEBUG] Determined point is within cavity\n",
      "Value of d/dt,  [1. 1. 0. 0. 0. 0. 0. 0.]\n",
      "[3.999999999998e+30, 3.999999999999333e+24, 244929359829470.66]\n",
      "[DEBUG] Determined point is within cavity\n",
      "Value of d/dt,  [1. 1. 0. 0. 0. 0. 0. 0.]\n",
      "[3.999999999998e+30, 3.999999999999333e+24, 244929359829470.66]\n",
      "[DEBUG] Determined point is within cavity\n",
      "Value of d/dt,  [1. 1. 0. 0. 0. 0. 0. 0.]\n",
      "[3.999999999998e+30, 3.999999999999333e+24, 244929359829470.66]\n",
      "[DEBUG] Determined point is within cavity\n",
      "Value of d/dt,  [1. 1. 0. 0. 0. 0. 0. 0.]\n",
      "[3.999999999998e+30, 3.999999999999333e+24, 244929359829470.66]\n",
      "[DEBUG] Determined point is within cavity\n",
      "Value of d/dt,  [1. 1. 0. 0. 0. 0. 0. 0.]\n",
      "[3.999999999998e+30, 3.999999999999333e+24, 244929359829470.66]\n",
      "[DEBUG] Determined point is within cavity\n",
      "Value of d/dt,  [1. 1. 0. 0. 0. 0. 0. 0.]\n",
      "[3.999999999998e+30, 3.999999999999333e+24, 244929359829470.66]\n",
      "[DEBUG] Determined point is within cavity\n",
      "Value of d/dt,  [1. 1. 0. 0. 0. 0. 0. 0.]\n",
      "[3.999999999998e+30, 3.999999999999333e+24, 244929359829470.66]\n",
      "[DEBUG] Determined point is within cavity\n",
      "Value of d/dt,  [1. 1. 0. 0. 0. 0. 0. 0.]\n",
      "[3.999999999998e+30, 3.999999999999333e+24, 244929359829470.66]\n",
      "[DEBUG] Determined point is within cavity\n",
      "Value of d/dt,  [1. 1. 0. 0. 0. 0. 0. 0.]\n",
      "[3.999999999998e+30, 3.999999999999333e+24, 244929359829470.66]\n",
      "[DEBUG] Determined point is within cavity\n",
      "Value of d/dt,  [1. 1. 0. 0. 0. 0. 0. 0.]\n",
      "[3.999999999998e+30, 3.999999999999333e+24, 244929359829470.66]\n",
      "[DEBUG] Determined point is within cavity\n",
      "Value of d/dt,  [1. 1. 0. 0. 0. 0. 0. 0.]\n",
      "[3.999999999998e+30, 3.999999999999333e+24, 244929359829470.66]\n",
      "[DEBUG] Determined point is within cavity\n",
      "Value of d/dt,  [1. 1. 0. 0. 0. 0. 0. 0.]\n",
      "[3.999999999998e+30, 3.999999999999333e+24, 244929359829470.66]\n",
      "[DEBUG] Determined point is within cavity\n",
      "Value of d/dt,  [1. 1. 0. 0. 0. 0. 0. 0.]\n",
      "[3.999999999998e+30, 3.999999999999333e+24, 244929359829470.66]\n",
      "[DEBUG] Determined point is within cavity\n",
      "Value of d/dt,  [1. 1. 0. 0. 0. 0. 0. 0.]\n",
      "[3.999999999998e+30, 3.999999999999333e+24, 244929359829470.66]\n",
      "[DEBUG] Determined point is within cavity\n",
      "Value of d/dt,  [1. 1. 0. 0. 0. 0. 0. 0.]\n",
      "[3.999999999998e+30, 3.999999999999333e+24, 244929359829470.66]\n",
      "[DEBUG] Determined point is within cavity\n",
      "Value of d/dt,  [1. 1. 0. 0. 0. 0. 0. 0.]\n",
      "[3.999999999998e+30, 3.999999999999333e+24, 244929359829470.66]\n",
      "[DEBUG] Determined point is within cavity\n",
      "Value of d/dt,  [1. 1. 0. 0. 0. 0. 0. 0.]\n",
      "[3.999999999998e+30, 3.999999999999333e+24, 244929359829470.66]\n",
      "[DEBUG] Determined point is within cavity\n",
      "Value of d/dt,  [1. 1. 0. 0. 0. 0. 0. 0.]\n",
      "[3.999999999998e+30, 3.999999999999333e+24, 244929359829470.66]\n",
      "[DEBUG] Determined point is within cavity\n",
      "Value of d/dt,  [1. 1. 0. 0. 0. 0. 0. 0.]\n",
      "[3.999999999998e+30, 3.999999999999333e+24, 244929359829470.66]\n",
      "[DEBUG] Determined point is within cavity\n",
      "Value of d/dt,  [1. 1. 0. 0. 0. 0. 0. 0.]\n",
      "[3.999999999998e+30, 3.999999999999333e+24, 244929359829470.66]\n",
      "[DEBUG] Determined point is within cavity\n",
      "Value of d/dt,  [1. 1. 0. 0. 0. 0. 0. 0.]\n",
      "[3.999999999998e+30, 3.999999999999333e+24, 244929359829470.66]\n",
      "[DEBUG] Determined point is within cavity\n",
      "Value of d/dt,  [1. 1. 0. 0. 0. 0. 0. 0.]\n",
      "[3.999999999998e+30, 3.999999999999333e+24, 244929359829470.66]\n",
      "[DEBUG] Determined point is within cavity\n",
      "Value of d/dt,  [1. 1. 0. 0. 0. 0. 0. 0.]\n",
      "[3.999999999998e+30, 3.999999999999333e+24, 244929359829470.66]\n",
      "[DEBUG] Determined point is within cavity\n",
      "Value of d/dt,  [1. 1. 0. 0. 0. 0. 0. 0.]\n",
      "[3.999999999998e+30, 3.999999999999333e+24, 244929359829470.66]\n",
      "[DEBUG] Determined point is within cavity\n",
      "Value of d/dt,  [1. 1. 0. 0. 0. 0. 0. 0.]\n",
      "[3.999999999998e+30, 3.999999999999333e+24, 244929359829470.66]\n",
      "[DEBUG] Determined point is within cavity\n",
      "Value of d/dt,  [1. 1. 0. 0. 0. 0. 0. 0.]\n",
      "[3.999999999998e+30, 3.999999999999333e+24, 244929359829470.66]\n",
      "[DEBUG] Determined point is within cavity\n",
      "Value of d/dt,  [1. 1. 0. 0. 0. 0. 0. 0.]\n",
      "[3.999999999998e+30, 3.999999999999333e+24, 244929359829470.66]\n",
      "[DEBUG] Determined point is within cavity\n",
      "Value of d/dt,  [1. 1. 0. 0. 0. 0. 0. 0.]\n",
      "[3.999999999998e+30, 3.999999999999333e+24, 244929359829470.66]\n",
      "[DEBUG] Determined point is within cavity\n",
      "Value of d/dt,  [1. 1. 0. 0. 0. 0. 0. 0.]\n",
      "[3.999999999998e+30, 3.999999999999333e+24, 244929359829470.66]\n",
      "[DEBUG] Determined point is within cavity\n",
      "Value of d/dt,  [1. 1. 0. 0. 0. 0. 0. 0.]\n",
      "[3.999999999998e+30, 3.999999999999333e+24, 244929359829470.66]\n",
      "[DEBUG] Determined point is within cavity\n",
      "Value of d/dt,  [1. 1. 0. 0. 0. 0. 0. 0.]\n",
      "[3.999999999998e+30, 3.999999999999333e+24, 244929359829470.66]\n",
      "[DEBUG] Determined point is within cavity\n",
      "Value of d/dt,  [1. 1. 0. 0. 0. 0. 0. 0.]\n",
      "[3.999999999998e+30, 3.999999999999333e+24, 244929359829470.66]\n",
      "[DEBUG] Determined point is within cavity\n",
      "Value of d/dt,  [1. 1. 0. 0. 0. 0. 0. 0.]\n",
      "[3.999999999998e+30, 3.999999999999333e+24, 244929359829470.66]\n",
      "[DEBUG] Determined point is within cavity\n",
      "Value of d/dt,  [1. 1. 0. 0. 0. 0. 0. 0.]\n",
      "[3.999999999998e+30, 3.999999999999333e+24, 244929359829470.66]\n",
      "[DEBUG] Determined point is within cavity\n",
      "Value of d/dt,  [1. 1. 0. 0. 0. 0. 0. 0.]\n",
      "[3.999999999998e+30, 3.999999999999333e+24, 244929359829470.66]\n",
      "[DEBUG] Determined point is within cavity\n",
      "Value of d/dt,  [1. 1. 0. 0. 0. 0. 0. 0.]\n",
      "[3.999999999998e+30, 3.999999999999333e+24, 244929359829470.66]\n",
      "[DEBUG] Determined point is within cavity\n",
      "Value of d/dt,  [1. 1. 0. 0. 0. 0. 0. 0.]\n",
      "[3.999999999998e+30, 3.999999999999333e+24, 244929359829470.66]\n",
      "[DEBUG] Determined point is within cavity\n",
      "Value of d/dt,  [1. 1. 0. 0. 0. 0. 0. 0.]\n",
      "[3.999999999998e+30, 3.999999999999333e+24, 244929359829470.66]\n",
      "[DEBUG] Determined point is within cavity\n",
      "Value of d/dt,  [1. 1. 0. 0. 0. 0. 0. 0.]\n",
      "[3.999999999998e+30, 3.999999999999333e+24, 244929359829470.66]\n",
      "[DEBUG] Determined point is within cavity\n",
      "Value of d/dt,  [1. 1. 0. 0. 0. 0. 0. 0.]\n",
      "[3.999999999998e+30, 3.999999999999333e+24, 244929359829470.66]\n",
      "[DEBUG] Determined point is within cavity\n",
      "Value of d/dt,  [1. 1. 0. 0. 0. 0. 0. 0.]\n",
      "[3.999999999998e+30, 3.999999999999333e+24, 244929359829470.66]\n",
      "[DEBUG] Determined point is within cavity\n",
      "Value of d/dt,  [1. 1. 0. 0. 0. 0. 0. 0.]\n",
      "[3.999999999998e+30, 3.999999999999333e+24, 244929359829470.66]\n",
      "[DEBUG] Determined point is within cavity\n",
      "Value of d/dt,  [1. 1. 0. 0. 0. 0. 0. 0.]\n",
      "[3.999999999998e+30, 3.999999999999333e+24, 244929359829470.66]\n",
      "[DEBUG] Determined point is within cavity\n",
      "Value of d/dt,  [1. 1. 0. 0. 0. 0. 0. 0.]\n",
      "[3.999999999998e+30, 3.999999999999333e+24, 244929359829470.66]\n",
      "[DEBUG] Determined point is within cavity\n",
      "Value of d/dt,  [1. 1. 0. 0. 0. 0. 0. 0.]\n",
      "[3.999999999998e+30, 3.999999999999333e+24, 244929359829470.66]\n",
      "[DEBUG] Determined point is within cavity\n",
      "Value of d/dt,  [1. 1. 0. 0. 0. 0. 0. 0.]\n",
      "[3.999999999998e+30, 3.999999999999333e+24, 244929359829470.66]\n",
      "[DEBUG] Determined point is within cavity\n",
      "Value of d/dt,  [1. 1. 0. 0. 0. 0. 0. 0.]\n",
      "[3.999999999998e+30, 3.999999999999333e+24, 244929359829470.66]\n",
      "[DEBUG] Determined point is within cavity\n",
      "Value of d/dt,  [1. 1. 0. 0. 0. 0. 0. 0.]\n",
      "[3.999999999998e+30, 3.999999999999333e+24, 244929359829470.66]\n",
      "[DEBUG] Determined point is within cavity\n",
      "Value of d/dt,  [1. 1. 0. 0. 0. 0. 0. 0.]\n",
      "[3.999999999998e+30, 3.999999999999333e+24, 244929359829470.66]\n",
      "[DEBUG] Determined point is within cavity\n",
      "Value of d/dt,  [1. 1. 0. 0. 0. 0. 0. 0.]\n",
      "[3.999999999998e+30, 3.999999999999333e+24, 244929359829470.66]\n",
      "[DEBUG] Determined point is within cavity\n",
      "Value of d/dt,  [1. 1. 0. 0. 0. 0. 0. 0.]\n",
      "[3.999999999998e+30, 3.999999999999333e+24, 244929359829470.66]\n",
      "[DEBUG] Determined point is within cavity\n",
      "Value of d/dt,  [1. 1. 0. 0. 0. 0. 0. 0.]\n",
      "[3.999999999998e+30, 3.999999999999333e+24, 244929359829470.66]\n",
      "[DEBUG] Determined point is within cavity\n",
      "Value of d/dt,  [1. 1. 0. 0. 0. 0. 0. 0.]\n",
      "[3.999999999998e+30, 3.999999999999333e+24, 244929359829470.66]\n",
      "[DEBUG] Determined point is within cavity\n",
      "Value of d/dt,  [1. 1. 0. 0. 0. 0. 0. 0.]\n",
      "[3.999999999998e+30, 3.999999999999333e+24, 244929359829470.66]\n",
      "[DEBUG] Determined point is within cavity\n",
      "Value of d/dt,  [1. 1. 0. 0. 0. 0. 0. 0.]\n",
      "[3.999999999998e+30, 3.999999999999333e+24, 244929359829470.66]\n",
      "[DEBUG] Determined point is within cavity\n",
      "Value of d/dt,  [1. 1. 0. 0. 0. 0. 0. 0.]\n"
     ]
    },
    {
     "name": "stdout",
     "output_type": "stream",
     "text": [
      "[3.999999999998e+30, 3.999999999999333e+24, 244929359829470.66]\n",
      "[DEBUG] Determined point is within cavity\n",
      "Value of d/dt,  [1. 1. 0. 0. 0. 0. 0. 0.]\n",
      "[3.999999999998e+30, 3.999999999999333e+24, 244929359829470.66]\n",
      "[DEBUG] Determined point is within cavity\n",
      "Value of d/dt,  [1. 1. 0. 0. 0. 0. 0. 0.]\n",
      "[3.999999999998e+30, 3.999999999999333e+24, 244929359829470.66]\n",
      "[DEBUG] Determined point is within cavity\n",
      "Value of d/dt,  [1. 1. 0. 0. 0. 0. 0. 0.]\n",
      "[3.999999999998e+30, 3.999999999999333e+24, 244929359829470.66]\n",
      "[DEBUG] Determined point is within cavity\n",
      "Value of d/dt,  [1. 1. 0. 0. 0. 0. 0. 0.]\n",
      "[3.999999999998e+30, 3.999999999999333e+24, 244929359829470.66]\n",
      "[DEBUG] Determined point is within cavity\n",
      "Value of d/dt,  [1. 1. 0. 0. 0. 0. 0. 0.]\n",
      "[3.999999999998e+30, 3.999999999999333e+24, 244929359829470.66]\n",
      "[DEBUG] Determined point is within cavity\n",
      "Value of d/dt,  [1. 1. 0. 0. 0. 0. 0. 0.]\n",
      "[3.999999999998e+30, 3.999999999999333e+24, 244929359829470.66]\n",
      "[DEBUG] Determined point is within cavity\n",
      "Value of d/dt,  [1. 1. 0. 0. 0. 0. 0. 0.]\n",
      "[3.999999999998e+30, 3.999999999999333e+24, 244929359829470.66]\n",
      "[DEBUG] Determined point is within cavity\n",
      "Value of d/dt,  [1. 1. 0. 0. 0. 0. 0. 0.]\n",
      "[3.999999999998e+30, 3.999999999999333e+24, 244929359829470.66]\n",
      "[DEBUG] Determined point is within cavity\n",
      "Value of d/dt,  [1. 1. 0. 0. 0. 0. 0. 0.]\n",
      "[3.999999999998e+30, 3.999999999999333e+24, 244929359829470.66]\n",
      "[DEBUG] Determined point is within cavity\n",
      "Value of d/dt,  [1. 1. 0. 0. 0. 0. 0. 0.]\n",
      "[3.999999999998e+30, 3.999999999999333e+24, 244929359829470.66]\n",
      "[DEBUG] Determined point is within cavity\n",
      "Value of d/dt,  [1. 1. 0. 0. 0. 0. 0. 0.]\n",
      "[3.999999999998e+30, 3.999999999999333e+24, 244929359829470.66]\n",
      "[DEBUG] Determined point is within cavity\n",
      "Value of d/dt,  [1. 1. 0. 0. 0. 0. 0. 0.]\n",
      "[3.999999999998e+30, 3.999999999999333e+24, 244929359829470.66]\n",
      "[DEBUG] Determined point is within cavity\n",
      "Value of d/dt,  [1. 1. 0. 0. 0. 0. 0. 0.]\n",
      "[3.999999999998e+30, 3.999999999999333e+24, 244929359829470.66]\n",
      "[DEBUG] Determined point is within cavity\n",
      "Value of d/dt,  [1. 1. 0. 0. 0. 0. 0. 0.]\n",
      "[3.999999999998e+30, 3.999999999999333e+24, 244929359829470.66]\n",
      "[DEBUG] Determined point is within cavity\n",
      "Value of d/dt,  [1. 1. 0. 0. 0. 0. 0. 0.]\n",
      "[3.999999999998e+30, 3.999999999999333e+24, 244929359829470.66]\n",
      "[DEBUG] Determined point is within cavity\n",
      "Value of d/dt,  [1. 1. 0. 0. 0. 0. 0. 0.]\n",
      "[3.999999999998e+30, 3.999999999999333e+24, 244929359829470.66]\n",
      "[DEBUG] Determined point is within cavity\n",
      "Value of d/dt,  [1. 1. 0. 0. 0. 0. 0. 0.]\n",
      "[3.999999999998e+30, 3.999999999999333e+24, 244929359829470.66]\n",
      "[DEBUG] Determined point is within cavity\n",
      "Value of d/dt,  [1. 1. 0. 0. 0. 0. 0. 0.]\n",
      "[3.999999999998e+30, 3.999999999999333e+24, 244929359829470.66]\n",
      "[DEBUG] Determined point is within cavity\n"
     ]
    },
    {
     "ename": "KeyboardInterrupt",
     "evalue": "",
     "output_type": "error",
     "traceback": [
      "\u001b[0;31m---------------------------------------------------------------------------\u001b[0m",
      "\u001b[0;31mKeyboardInterrupt\u001b[0m                         Traceback (most recent call last)",
      "Cell \u001b[0;32mIn[108], line 4\u001b[0m\n\u001b[1;32m      1\u001b[0m \u001b[38;5;28;01mfor\u001b[39;00m i \u001b[38;5;129;01min\u001b[39;00m \u001b[38;5;28mrange\u001b[39m(\u001b[38;5;241m1\u001b[39m, N):\n\u001b[1;32m      2\u001b[0m     \u001b[38;5;66;03m# Find the point of intersection accounting for curving\u001b[39;00m\n\u001b[1;32m      3\u001b[0m     \u001b[38;5;66;03m# of straight path in Kerr spacetime\u001b[39;00m\n\u001b[0;32m----> 4\u001b[0m     geodesic, intersection_point \u001b[38;5;241m=\u001b[39m \u001b[43mkerr_intersection_rk4\u001b[49m\u001b[43m(\u001b[49m\u001b[43mmesh\u001b[49m\u001b[43m,\u001b[49m\u001b[43m \u001b[49m\u001b[43mkerr_d_dt\u001b[49m\u001b[43m,\u001b[49m\u001b[43m \u001b[49m\u001b[43mu_spherical\u001b[49m\u001b[43m[\u001b[49m\u001b[43mi\u001b[49m\u001b[43m \u001b[49m\u001b[38;5;241;43m-\u001b[39;49m\u001b[43m \u001b[49m\u001b[38;5;241;43m1\u001b[39;49m\u001b[43m]\u001b[49m\u001b[43m,\u001b[49m\u001b[43m \u001b[49m\u001b[43mh\u001b[49m\u001b[38;5;241;43m=\u001b[39;49m\u001b[38;5;241;43m1e12\u001b[39;49m\u001b[43m,\u001b[49m\u001b[43m \u001b[49m\u001b[43mdebug\u001b[49m\u001b[38;5;241;43m=\u001b[39;49m\u001b[38;5;28;43;01mTrue\u001b[39;49;00m\u001b[43m)\u001b[49m\n\u001b[1;32m      5\u001b[0m     \u001b[38;5;66;03m# Find the initial conditions theta0 and phi0 for the next path to trace\u001b[39;00m\n\u001b[1;32m      6\u001b[0m     \u001b[38;5;66;03m# by finding the reflected vector\u001b[39;00m\n\u001b[1;32m      7\u001b[0m     tau, r, theta, phi, v_tau, v_r, v_theta, v_phi \u001b[38;5;241m=\u001b[39m intersection_point\n",
      "Cell \u001b[0;32mIn[106], line 7\u001b[0m, in \u001b[0;36mkerr_intersection_rk4\u001b[0;34m(mesh, f, u0, t0, tf, h, debug)\u001b[0m\n\u001b[1;32m      4\u001b[0m u_array \u001b[38;5;241m=\u001b[39m [u0]\n\u001b[1;32m      6\u001b[0m \u001b[38;5;28;01mwhile\u001b[39;00m t \u001b[38;5;241m<\u001b[39m tf:\n\u001b[0;32m----> 7\u001b[0m     \u001b[38;5;28mprint\u001b[39m(\u001b[38;5;124m\"\u001b[39m\u001b[38;5;124mValue of d/dt, \u001b[39m\u001b[38;5;124m\"\u001b[39m, \u001b[43mf\u001b[49m\u001b[43m(\u001b[49m\u001b[43mu\u001b[49m\u001b[43m,\u001b[49m\u001b[43m \u001b[49m\u001b[43mt\u001b[49m\u001b[43m)\u001b[49m)\n\u001b[1;32m      8\u001b[0m     k1 \u001b[38;5;241m=\u001b[39m h \u001b[38;5;241m*\u001b[39m f(u, t)    \n\u001b[1;32m      9\u001b[0m     k2 \u001b[38;5;241m=\u001b[39m h \u001b[38;5;241m*\u001b[39m f(u \u001b[38;5;241m+\u001b[39m \u001b[38;5;241m0.5\u001b[39m \u001b[38;5;241m*\u001b[39m k1, t \u001b[38;5;241m+\u001b[39m \u001b[38;5;241m0.5\u001b[39m\u001b[38;5;241m*\u001b[39mh)\n",
      "Cell \u001b[0;32mIn[36], line 37\u001b[0m, in \u001b[0;36mkerr_d_dt\u001b[0;34m(X, t)\u001b[0m\n\u001b[1;32m     35\u001b[0m f[:\u001b[38;5;241m4\u001b[39m] \u001b[38;5;241m=\u001b[39m velocities\n\u001b[1;32m     36\u001b[0m t, r, theta, phi \u001b[38;5;241m=\u001b[39m x\n\u001b[0;32m---> 37\u001b[0m Gamma \u001b[38;5;241m=\u001b[39m \u001b[43mchristoffel_at_point_4d\u001b[49m\u001b[43m(\u001b[49m\u001b[43mkerr_metric\u001b[49m\u001b[43m,\u001b[49m\u001b[43m \u001b[49m\u001b[43mkerr_inverse_metric\u001b[49m\u001b[43m,\u001b[49m\u001b[43m \u001b[49m\u001b[43mt\u001b[49m\u001b[43m,\u001b[49m\u001b[43m \u001b[49m\u001b[43mr\u001b[49m\u001b[43m,\u001b[49m\u001b[43m \u001b[49m\u001b[43mtheta\u001b[49m\u001b[43m,\u001b[49m\u001b[43m \u001b[49m\u001b[43mphi\u001b[49m\u001b[43m,\u001b[49m\u001b[43m \u001b[49m\u001b[38;5;241;43m4\u001b[39;49m\u001b[43m)\u001b[49m\n\u001b[1;32m     39\u001b[0m \u001b[38;5;28;01mfor\u001b[39;00m i \u001b[38;5;129;01min\u001b[39;00m \u001b[38;5;28mrange\u001b[39m(\u001b[38;5;241m4\u001b[39m):\n\u001b[1;32m     40\u001b[0m     Gamma[:,:,i] \u001b[38;5;241m+\u001b[39m\u001b[38;5;241m=\u001b[39m np\u001b[38;5;241m.\u001b[39mtranspose(Gamma[:,:,i])\n",
      "Cell \u001b[0;32mIn[35], line 15\u001b[0m, in \u001b[0;36mchristoffel_at_point_4d\u001b[0;34m(metric, inverse_metric, t, r, theta, phi, dims)\u001b[0m\n\u001b[1;32m     13\u001b[0m g_inv \u001b[38;5;241m=\u001b[39m inverse_metric(coord)\n\u001b[1;32m     14\u001b[0m jacobian \u001b[38;5;241m=\u001b[39m torch\u001b[38;5;241m.\u001b[39mautograd\u001b[38;5;241m.\u001b[39mfunctional\u001b[38;5;241m.\u001b[39mjacobian(metric, coord, create_graph\u001b[38;5;241m=\u001b[39m\u001b[38;5;28;01mTrue\u001b[39;00m)\n\u001b[0;32m---> 15\u001b[0m \u001b[38;5;28;01mreturn\u001b[39;00m \u001b[43mcalculate_christoffel\u001b[49m\u001b[43m(\u001b[49m\u001b[43mjacobian\u001b[49m\u001b[43m,\u001b[49m\u001b[43m \u001b[49m\u001b[43mg_inv\u001b[49m\u001b[43m,\u001b[49m\u001b[43m \u001b[49m\u001b[43mdims\u001b[49m\u001b[43m)\u001b[49m\n",
      "Cell \u001b[0;32mIn[35], line 8\u001b[0m, in \u001b[0;36mcalculate_christoffel\u001b[0;34m(jacob, g_inv, dims)\u001b[0m\n\u001b[1;32m      6\u001b[0m         \u001b[38;5;28;01mfor\u001b[39;00m nu \u001b[38;5;129;01min\u001b[39;00m \u001b[38;5;28mrange\u001b[39m(dims):\n\u001b[1;32m      7\u001b[0m             \u001b[38;5;28;01mfor\u001b[39;00m alpha \u001b[38;5;129;01min\u001b[39;00m \u001b[38;5;28mrange\u001b[39m(dims):\n\u001b[0;32m----> 8\u001b[0m                 gamma[beta,mu,nu] \u001b[38;5;241m=\u001b[39m \u001b[38;5;241m1\u001b[39m\u001b[38;5;241m/\u001b[39m\u001b[38;5;241m2\u001b[39m \u001b[38;5;241m*\u001b[39m g_inv[alpha][beta] \u001b[38;5;241m*\u001b[39m (jacob[alpha][mu][nu] \u001b[38;5;241m+\u001b[39m jacob[alpha][nu][mu] \u001b[38;5;241m-\u001b[39m jacob[mu][nu][alpha])\n\u001b[1;32m      9\u001b[0m \u001b[38;5;28;01mreturn\u001b[39;00m gamma\n",
      "\u001b[0;31mKeyboardInterrupt\u001b[0m: "
     ]
    }
   ],
   "source": [
    "for i in range(1, N):\n",
    "    # Find the point of intersection accounting for curving\n",
    "    # of straight path in Kerr spacetime\n",
    "    geodesic, intersection_point = kerr_intersection_rk4(mesh, kerr_d_dt, u_spherical[i - 1], h=1e12, debug=True)\n",
    "    # Find the initial conditions theta0 and phi0 for the next path to trace\n",
    "    # by finding the reflected vector\n",
    "    tau, r, theta, phi, v_tau, v_r, v_theta, v_phi = intersection_point\n",
    "    next_starting_point = [tau, r, theta, phi, v_tau, c, 0.0, 0.0]\n",
    "    ray_positions_spherical[i] = next_starting_point\n",
    "    for point in geodesic:\n",
    "        path.append(point[:4]) # disregard velocity components"
   ]
  },
  {
   "cell_type": "code",
   "execution_count": null,
   "id": "1e066720",
   "metadata": {},
   "outputs": [],
   "source": []
  }
 ],
 "metadata": {
  "kernelspec": {
   "display_name": "Python 3 (ipykernel)",
   "language": "python",
   "name": "python3"
  },
  "language_info": {
   "codemirror_mode": {
    "name": "ipython",
    "version": 3
   },
   "file_extension": ".py",
   "mimetype": "text/x-python",
   "name": "python",
   "nbconvert_exporter": "python",
   "pygments_lexer": "ipython3",
   "version": "3.11.4"
  }
 },
 "nbformat": 4,
 "nbformat_minor": 5
}
